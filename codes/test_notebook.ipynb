{
 "cells": [
  {
   "cell_type": "markdown",
   "metadata": {},
   "source": [
    "# Imports"
   ]
  },
  {
   "cell_type": "markdown",
   "metadata": {},
   "source": [
    "## Libraries"
   ]
  },
  {
   "cell_type": "code",
   "execution_count": 1,
   "metadata": {},
   "outputs": [],
   "source": [
    "from datetime import datetime, timedelta\n",
    "from config.settings import Config\n",
    "import polars as pl\n",
    "import json"
   ]
  },
  {
   "cell_type": "markdown",
   "metadata": {},
   "source": [
    "## Configurations"
   ]
  },
  {
   "cell_type": "code",
   "execution_count": null,
   "metadata": {},
   "outputs": [],
   "source": [
    "config = Config(\"dev\")"
   ]
  },
  {
   "cell_type": "markdown",
   "metadata": {},
   "source": [
    "## Data"
   ]
  },
  {
   "cell_type": "code",
   "execution_count": null,
   "metadata": {},
   "outputs": [],
   "source": [
    "# PATHS\n",
    "morning_path = config.get_file(\"data\", \"morning_routine_v2.xlsx\")\n",
    "night_path = config.get_file(\"data\", \"night_routine_v2.xlsx\")\n",
    "json_path = config.get_file(\"misc\", \"rename_columns.json\")\n",
    "\n",
    "# DATA TABLES\n",
    "df_sun_raw = pl.read_excel(morning_path)\n",
    "df_moon_raw = pl.read_excel(night_path)"
   ]
  },
  {
   "cell_type": "markdown",
   "metadata": {},
   "source": [
    "## Dictionaries"
   ]
  },
  {
   "cell_type": "code",
   "execution_count": null,
   "metadata": {},
   "outputs": [],
   "source": [
    "# Dict to translate dtype in STRING to dtype in POLARS\n",
    "pl_dtype_dict = {\n",
    "\t\"list\": pl.List(pl.Utf8),\n",
    "\t\"string\": pl.Utf8,\n",
    "\t\"date\": pl.Date,\n",
    "\t\"float\": pl.Float64,\n",
    "\t\"int\": pl.Int64,\n",
    "\t\"timestamp\": pl.Datetime,\n",
    "\t\"timedelta\": pl.Duration\n",
    "}\n",
    "\n",
    "# Dict loading the rename_columns.json file\n",
    "with open(json_path, encoding='utf-8') as f:\n",
    "    rename_columns_dict = json.load(f)"
   ]
  },
  {
   "cell_type": "markdown",
   "metadata": {},
   "source": [
    "## Functions"
   ]
  },
  {
   "cell_type": "code",
   "execution_count": null,
   "metadata": {},
   "outputs": [],
   "source": [
    "# Function to convert string to microseconds\n",
    "def convert_to_microseconds(time_str):\n",
    "    if time_str is not None:\n",
    "        time_datetime = datetime.strptime(time_str, \"%H:%M\")\n",
    "        difference = time_datetime - datetime.strptime(\"00:00\", \"%H:%M\")\n",
    "        microseconds = difference.total_seconds() * 1e6\n",
    "        return int(microseconds)\n",
    "    else:\n",
    "        return None\n",
    "    \n",
    "def date_format_correction(date_var):\n",
    "\t# Turns date in the \"MM-dd-yy\" format to \"YYYY-MM-dd\" format\n",
    "\treturn datetime.strptime(date_var, \"%m-%d-%y\").strftime(\"%Y-%m-%d\")"
   ]
  },
  {
   "cell_type": "markdown",
   "metadata": {},
   "source": [
    "# Data Cleaning"
   ]
  },
  {
   "cell_type": "markdown",
   "metadata": {},
   "source": [
    "## Transformation Expessions"
   ]
  },
  {
   "cell_type": "code",
   "execution_count": 2,
   "metadata": {},
   "outputs": [],
   "source": [
    "# Defining expression to rename columns when called\n",
    "rename_expressions = [\n",
    "    pl.col(column_name).alias(column_config[\"name\"])\n",
    "    for column_name, column_config in rename_columns_dict[\"morning\"].items()\n",
    "]\n",
    "\n",
    "# Defining expression to correct columns dtype when called\n",
    "dtype_expressions = [\n",
    "    pl.col(column_config[\"name\"]).cast(pl_dtype_dict[column_config[\"dtype\"]])\n",
    "    for column_name, column_config in rename_columns_dict[\"morning\"].items()\n",
    "]"
   ]
  },
  {
   "cell_type": "markdown",
   "metadata": {},
   "source": [
    "## Applying Cleaning"
   ]
  },
  {
   "cell_type": "code",
   "execution_count": 59,
   "metadata": {},
   "outputs": [],
   "source": [
    "# Applying expression to rename columns\n",
    "df_sun = df_sun_raw.select(rename_expressions)\n",
    "\n",
    "# Correction 'day_date' column from \"MM-dd-yy\" format to \"YYYY-MM-dd\" format\n",
    "df_sun = df_sun.with_columns(\n",
    "\tpl.col(\"day_date\").map_elements(lambda x: date_format_correction(x)).alias(\"day_date\")\n",
    ")\n",
    "\n",
    "# List of columns that are going to be corrected to microseconds (and further in pl.Duration)\n",
    "time_cols = ['day_form_time', 'slp_fall', 'pho_time', 'slp_raise', 'slp_duration']\n",
    "# Applying 'convert_to_microseconds' function to the selected columns\n",
    "df_sun = df_sun.select([\n",
    "    pl.col(col_name).map_elements(convert_to_microseconds).alias(col_name)\n",
    "    if col_name in time_cols\n",
    "    else col_name\n",
    "    for col_name in df_sun.columns\n",
    "])\n",
    "\n",
    "# Applying expression to change columns dtype\n",
    "df_sun = df_sun.select(dtype_expressions)"
   ]
  },
  {
   "cell_type": "code",
   "execution_count": 60,
   "metadata": {},
   "outputs": [
    {
     "name": "stdout",
     "output_type": "stream",
     "text": [
      "[Date, Float64, Float64, Float64, Int64, Int64]\n"
     ]
    },
    {
     "data": {
      "text/html": [
       "<div><style>\n",
       ".dataframe > thead > tr,\n",
       ".dataframe > tbody > tr {\n",
       "  text-align: right;\n",
       "  white-space: pre-wrap;\n",
       "}\n",
       "</style>\n",
       "<small>shape: (5, 6)</small><table border=\"1\" class=\"dataframe\"><thead><tr><th>day_date</th><th>wgt_total</th><th>wgt_muscle</th><th>wgt_bf</th><th>wgt_rmr</th><th>wgt_cal</th></tr><tr><td>date</td><td>f64</td><td>f64</td><td>f64</td><td>i64</td><td>i64</td></tr></thead><tbody><tr><td>2023-11-08</td><td>73.05</td><td>55.95</td><td>19.3</td><td>1598</td><td>897</td></tr><tr><td>2023-11-07</td><td>73.6</td><td>56.22</td><td>19.5</td><td>1604</td><td>541</td></tr><tr><td>2023-11-09</td><td>73.5</td><td>56.2</td><td>19.4</td><td>1603</td><td>609</td></tr><tr><td>2023-11-10</td><td>73.5</td><td>56.2</td><td>19.4</td><td>1603</td><td>829</td></tr><tr><td>2023-11-11</td><td>72.9</td><td>55.9</td><td>19.2</td><td>1594</td><td>1081</td></tr></tbody></table></div>"
      ],
      "text/plain": [
       "shape: (5, 6)\n",
       "┌────────────┬───────────┬────────────┬────────┬─────────┬─────────┐\n",
       "│ day_date   ┆ wgt_total ┆ wgt_muscle ┆ wgt_bf ┆ wgt_rmr ┆ wgt_cal │\n",
       "│ ---        ┆ ---       ┆ ---        ┆ ---    ┆ ---     ┆ ---     │\n",
       "│ date       ┆ f64       ┆ f64        ┆ f64    ┆ i64     ┆ i64     │\n",
       "╞════════════╪═══════════╪════════════╪════════╪═════════╪═════════╡\n",
       "│ 2023-11-08 ┆ 73.05     ┆ 55.95      ┆ 19.3   ┆ 1598    ┆ 897     │\n",
       "│ 2023-11-07 ┆ 73.6      ┆ 56.22      ┆ 19.5   ┆ 1604    ┆ 541     │\n",
       "│ 2023-11-09 ┆ 73.5      ┆ 56.2       ┆ 19.4   ┆ 1603    ┆ 609     │\n",
       "│ 2023-11-10 ┆ 73.5      ┆ 56.2       ┆ 19.4   ┆ 1603    ┆ 829     │\n",
       "│ 2023-11-11 ┆ 72.9      ┆ 55.9       ┆ 19.2   ┆ 1594    ┆ 1081    │\n",
       "└────────────┴───────────┴────────────┴────────┴─────────┴─────────┘"
      ]
     },
     "execution_count": 60,
     "metadata": {},
     "output_type": "execute_result"
    }
   ],
   "source": [
    "wgt_columns = [\"day_date\",\n",
    "\t\t\t   \"wgt_total\",\n",
    "\t\t\t   \"wgt_muscle\",\n",
    "\t\t\t   \"wgt_bf\",\n",
    "\t\t\t   \"wgt_rmr\",\n",
    "\t\t\t   \"wgt_cal\"]\n",
    "\n",
    "print(df_sun.select(wgt_columns).dtypes)\n",
    "\n",
    "df_sun.select(wgt_columns).head()"
   ]
  }
 ],
 "metadata": {
  "kernelspec": {
   "display_name": "Python 3",
   "language": "python",
   "name": "python3"
  },
  "language_info": {
   "codemirror_mode": {
    "name": "ipython",
    "version": 3
   },
   "file_extension": ".py",
   "mimetype": "text/x-python",
   "name": "python",
   "nbconvert_exporter": "python",
   "pygments_lexer": "ipython3",
   "version": "3.10.11"
  }
 },
 "nbformat": 4,
 "nbformat_minor": 2
}
