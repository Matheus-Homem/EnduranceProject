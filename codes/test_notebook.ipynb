{
 "cells": [
  {
   "cell_type": "code",
   "execution_count": 1,
   "metadata": {},
   "outputs": [],
   "source": [
    "from datetime import datetime, timedelta\n",
    "from config.settings import Config\n",
    "import polars as pl\n",
    "import json"
   ]
  },
  {
   "cell_type": "code",
   "execution_count": 2,
   "metadata": {},
   "outputs": [],
   "source": [
    "config = Config(\"dev\")\n",
    "\n",
    "morning_path = config.get_file(\"data\", \"morning_routine_v2.xlsx\")\n",
    "night_path = config.get_file(\"data\", \"night_routine_v2.xlsx\")\n",
    "json_path = config.get_file(\"misc\", \"rename_columns.json\")\n",
    "\n",
    "pl_dtype_dict = {\n",
    "\t\"list\": pl.List(pl.Utf8),\n",
    "\t\"string\": pl.Utf8,\n",
    "\t\"date\": pl.Date,\n",
    "\t\"float\": pl.Float64,\n",
    "\t\"int\": pl.Int64,\n",
    "\t\"timestamp\": pl.Datetime,\n",
    "\t\"timedelta\": pl.Duration\n",
    "}\n",
    "\n",
    "# Function to convert string to microseconds\n",
    "def convert_to_microseconds(time_str):\n",
    "    if time_str is not None:\n",
    "        time_datetime = datetime.strptime(time_str, \"%H:%M\")\n",
    "        difference = time_datetime - datetime.strptime(\"00:00\", \"%H:%M\")\n",
    "        microseconds = difference.total_seconds() * 1e6\n",
    "        return int(microseconds)\n",
    "    else:\n",
    "        return None"
   ]
  },
  {
   "cell_type": "code",
   "execution_count": 24,
   "metadata": {},
   "outputs": [
    {
     "data": {
      "text/html": [
       "<div><style>\n",
       ".dataframe > thead > tr,\n",
       ".dataframe > tbody > tr {\n",
       "  text-align: right;\n",
       "  white-space: pre-wrap;\n",
       "}\n",
       "</style>\n",
       "<small>shape: (76, 5)</small><table border=\"1\" class=\"dataframe\"><thead><tr><th>day_form_time</th><th>slp_fall</th><th>pho_time</th><th>slp_raise</th><th>slp_duration</th></tr><tr><td>i64</td><td>i64</td><td>i64</td><td>i64</td><td>i64</td></tr></thead><tbody><tr><td>27720000000</td><td>75480000000</td><td>null</td><td>17400000000</td><td>28320000000</td></tr><tr><td>25080000000</td><td>75300000000</td><td>null</td><td>17400000000</td><td>28500000000</td></tr><tr><td>19260000000</td><td>77940000000</td><td>null</td><td>18300000000</td><td>26760000000</td></tr><tr><td>18600000000</td><td>74820000000</td><td>null</td><td>18180000000</td><td>29760000000</td></tr><tr><td>18060000000</td><td>77820000000</td><td>null</td><td>17520000000</td><td>26100000000</td></tr><tr><td>35940000000</td><td>82140000000</td><td>null</td><td>29220000000</td><td>33480000000</td></tr><tr><td>17820000000</td><td>77160000000</td><td>null</td><td>15600000000</td><td>24840000000</td></tr><tr><td>19140000000</td><td>75420000000</td><td>null</td><td>18600000000</td><td>29580000000</td></tr><tr><td>19800000000</td><td>81780000000</td><td>7980000000</td><td>19080000000</td><td>23700000000</td></tr><tr><td>27480000000</td><td>420000000</td><td>9000000000</td><td>27000000000</td><td>26580000000</td></tr><tr><td>18720000000</td><td>77160000000</td><td>11700000000</td><td>18180000000</td><td>27420000000</td></tr><tr><td>23880000000</td><td>83100000000</td><td>13260000000</td><td>23460000000</td><td>26760000000</td></tr><tr><td>&hellip;</td><td>&hellip;</td><td>&hellip;</td><td>&hellip;</td><td>&hellip;</td></tr><tr><td>22800000000</td><td>81360000000</td><td>12060000000</td><td>21720000000</td><td>26760000000</td></tr><tr><td>25920000000</td><td>82800000000</td><td>18120000000</td><td>25200000000</td><td>28800000000</td></tr><tr><td>19200000000</td><td>75360000000</td><td>3240000000</td><td>18480000000</td><td>29520000000</td></tr><tr><td>72540000000</td><td>60000000</td><td>8940000000</td><td>23580000000</td><td>23520000000</td></tr><tr><td>18660000000</td><td>77880000000</td><td>9720000000</td><td>18180000000</td><td>26700000000</td></tr><tr><td>18720000000</td><td>76860000000</td><td>12720000000</td><td>17460000000</td><td>27000000000</td></tr><tr><td>18660000000</td><td>76620000000</td><td>13260000000</td><td>18000000000</td><td>27780000000</td></tr><tr><td>18720000000</td><td>76800000000</td><td>15660000000</td><td>18000000000</td><td>27600000000</td></tr><tr><td>18540000000</td><td>82740000000</td><td>31800000000</td><td>18120000000</td><td>21780000000</td></tr><tr><td>18720000000</td><td>76560000000</td><td>3420000000</td><td>18720000000</td><td>27960000000</td></tr><tr><td>23760000000</td><td>70560000000</td><td>19500000000</td><td>23100000000</td><td>38340000000</td></tr><tr><td>15060000000</td><td>77040000000</td><td>4140000000</td><td>14520000000</td><td>23880000000</td></tr></tbody></table></div>"
      ],
      "text/plain": [
       "shape: (76, 5)\n",
       "┌───────────────┬─────────────┬─────────────┬─────────────┬──────────────┐\n",
       "│ day_form_time ┆ slp_fall    ┆ pho_time    ┆ slp_raise   ┆ slp_duration │\n",
       "│ ---           ┆ ---         ┆ ---         ┆ ---         ┆ ---          │\n",
       "│ i64           ┆ i64         ┆ i64         ┆ i64         ┆ i64          │\n",
       "╞═══════════════╪═════════════╪═════════════╪═════════════╪══════════════╡\n",
       "│ 27720000000   ┆ 75480000000 ┆ null        ┆ 17400000000 ┆ 28320000000  │\n",
       "│ 25080000000   ┆ 75300000000 ┆ null        ┆ 17400000000 ┆ 28500000000  │\n",
       "│ 19260000000   ┆ 77940000000 ┆ null        ┆ 18300000000 ┆ 26760000000  │\n",
       "│ 18600000000   ┆ 74820000000 ┆ null        ┆ 18180000000 ┆ 29760000000  │\n",
       "│ …             ┆ …           ┆ …           ┆ …           ┆ …            │\n",
       "│ 18540000000   ┆ 82740000000 ┆ 31800000000 ┆ 18120000000 ┆ 21780000000  │\n",
       "│ 18720000000   ┆ 76560000000 ┆ 3420000000  ┆ 18720000000 ┆ 27960000000  │\n",
       "│ 23760000000   ┆ 70560000000 ┆ 19500000000 ┆ 23100000000 ┆ 38340000000  │\n",
       "│ 15060000000   ┆ 77040000000 ┆ 4140000000  ┆ 14520000000 ┆ 23880000000  │\n",
       "└───────────────┴─────────────┴─────────────┴─────────────┴──────────────┘"
      ]
     },
     "execution_count": 24,
     "metadata": {},
     "output_type": "execute_result"
    }
   ],
   "source": [
    "with open(json_path, encoding='utf-8') as f:\n",
    "    rename_columns_dict = json.load(f)\n",
    "\n",
    "df_sun_raw = pl.read_excel(morning_path)\n",
    "df_moon_raw = pl.read_excel(night_path)\n",
    "\n",
    "# Create a list of column expressions for renaming\n",
    "rename_expressions = [\n",
    "    pl.col(column_name).alias(column_config[\"name\"])\n",
    "    for column_name, column_config in rename_columns_dict[\"morning\"].items()\n",
    "]\n",
    "\n",
    "dtype_expressions = [\n",
    "    pl.col(column_config[\"name\"]).cast(pl_dtype_dict[column_config[\"dtype\"]])\n",
    "    for column_name, column_config in rename_columns_dict[\"morning\"].items()\n",
    "]\n",
    "\n",
    "df_sun = df_sun_raw.select(rename_expressions)\n",
    "\n",
    "time_cols = ['day_form_time', 'slp_fall', 'pho_time', 'slp_raise', 'slp_duration']\n",
    "df_sun = df_sun.select([\n",
    "    pl.col(col_name).map_elements(convert_to_microseconds).alias(col_name)\n",
    "    if col_name in time_cols\n",
    "    else col_name\n",
    "    for col_name in df_sun.columns\n",
    "])\n",
    "\n",
    "#df_sun = df_sun.select(dtype_expressions)\n",
    "\n",
    "df_sun.select(time_cols)"
   ]
  },
  {
   "cell_type": "code",
   "execution_count": 88,
   "metadata": {},
   "outputs": [
    {
     "name": "stdout",
     "output_type": "stream",
     "text": [
      "shape: (76, 5)\n",
      "┌───────────────┬──────────────┬──────────────┬──────────────┬──────────────┐\n",
      "│ day_form_time ┆ slp_fall     ┆ pho_time     ┆ slp_raise    ┆ slp_duration │\n",
      "│ ---           ┆ ---          ┆ ---          ┆ ---          ┆ ---          │\n",
      "│ duration[μs]  ┆ duration[μs] ┆ duration[μs] ┆ duration[μs] ┆ duration[μs] │\n",
      "╞═══════════════╪══════════════╪══════════════╪══════════════╪══════════════╡\n",
      "│ 7h 42m        ┆ 20h 58m      ┆ null         ┆ 4h 50m       ┆ 7h 52m       │\n",
      "│ 6h 58m        ┆ 20h 55m      ┆ null         ┆ 4h 50m       ┆ 7h 55m       │\n",
      "│ 5h 21m        ┆ 21h 39m      ┆ null         ┆ 5h 5m        ┆ 7h 26m       │\n",
      "│ 5h 10m        ┆ 20h 47m      ┆ null         ┆ 5h 3m        ┆ 8h 16m       │\n",
      "│ …             ┆ …            ┆ …            ┆ …            ┆ …            │\n",
      "│ 5h 9m         ┆ 22h 59m      ┆ 8h 50m       ┆ 5h 2m        ┆ 6h 3m        │\n",
      "│ 5h 12m        ┆ 21h 16m      ┆ 57m          ┆ 5h 12m       ┆ 7h 46m       │\n",
      "│ 6h 36m        ┆ 19h 36m      ┆ 5h 25m       ┆ 6h 25m       ┆ 10h 39m      │\n",
      "│ 4h 11m        ┆ 21h 24m      ┆ 1h 9m        ┆ 4h 2m        ┆ 6h 38m       │\n",
      "└───────────────┴──────────────┴──────────────┴──────────────┴──────────────┘\n"
     ]
    }
   ],
   "source": [
    "# Função para converter string em microssegundos\n",
    "def converter_para_microssegundos(horario_str):\n",
    "    if horario_str is not None:\n",
    "        horario_datetime = datetime.strptime(horario_str, \"%H:%M\")\n",
    "        diferenca = horario_datetime - datetime.strptime(\"00:00\", \"%H:%M\")\n",
    "        microssegundos = diferenca.total_seconds() * 1e6\n",
    "        return int(microssegundos)\n",
    "    else:\n",
    "        return None\n",
    "\n",
    "#df1 = df_sun.with_columns('pho_time', df_sun['pho_time'].map_elements(converter_para_microssegundos))\n",
    "\n",
    "\n",
    "# Converter as strings para microssegundos e criar o DataFrame\n",
    "#df = pl.DataFrame({\n",
    "#    'horario': strings_horarios,\n",
    "#    'microssegundos': [converter_para_microssegundos(h) for h in strings_horarios]\n",
    "#})\n",
    "\n",
    "#df = df1.select(pl.col(\"pho_time\").map_elements(converter_para_microssegundos)).cast(pl.Duration)\n",
    "\n",
    "# Mostrar o DataFrame\n",
    "print(df_sun[time_cols])\n",
    "\n"
   ]
  },
  {
   "cell_type": "code",
   "execution_count": 84,
   "metadata": {},
   "outputs": [
    {
     "ename": "AttributeError",
     "evalue": "'DataFrame' object has no attribute 'collect'",
     "output_type": "error",
     "traceback": [
      "\u001b[1;31m---------------------------------------------------------------------------\u001b[0m",
      "\u001b[1;31mAttributeError\u001b[0m                            Traceback (most recent call last)",
      "Cell \u001b[1;32mIn[84], line 14\u001b[0m\n\u001b[0;32m     11\u001b[0m df \u001b[38;5;241m=\u001b[39m pl\u001b[38;5;241m.\u001b[39mDataFrame(data)\n\u001b[0;32m     13\u001b[0m \u001b[38;5;66;03m# Encontrar valores nulos em todos os campos\u001b[39;00m\n\u001b[1;32m---> 14\u001b[0m null_values \u001b[38;5;241m=\u001b[39m {col: df\u001b[38;5;241m.\u001b[39mfilter(pl\u001b[38;5;241m.\u001b[39mcol(col)\u001b[38;5;241m.\u001b[39mis_null())\u001b[38;5;241m.\u001b[39mcollect() \u001b[38;5;28;01mfor\u001b[39;00m col \u001b[38;5;129;01min\u001b[39;00m df\u001b[38;5;241m.\u001b[39mcolumns}\n\u001b[0;32m     16\u001b[0m \u001b[38;5;66;03m# Exibindo os valores nulos por coluna\u001b[39;00m\n\u001b[0;32m     17\u001b[0m \u001b[38;5;28;01mfor\u001b[39;00m col, values \u001b[38;5;129;01min\u001b[39;00m null_values\u001b[38;5;241m.\u001b[39mitems():\n",
      "Cell \u001b[1;32mIn[84], line 14\u001b[0m, in \u001b[0;36m<dictcomp>\u001b[1;34m(.0)\u001b[0m\n\u001b[0;32m     11\u001b[0m df \u001b[38;5;241m=\u001b[39m pl\u001b[38;5;241m.\u001b[39mDataFrame(data)\n\u001b[0;32m     13\u001b[0m \u001b[38;5;66;03m# Encontrar valores nulos em todos os campos\u001b[39;00m\n\u001b[1;32m---> 14\u001b[0m null_values \u001b[38;5;241m=\u001b[39m {col: \u001b[43mdf\u001b[49m\u001b[38;5;241;43m.\u001b[39;49m\u001b[43mfilter\u001b[49m\u001b[43m(\u001b[49m\u001b[43mpl\u001b[49m\u001b[38;5;241;43m.\u001b[39;49m\u001b[43mcol\u001b[49m\u001b[43m(\u001b[49m\u001b[43mcol\u001b[49m\u001b[43m)\u001b[49m\u001b[38;5;241;43m.\u001b[39;49m\u001b[43mis_null\u001b[49m\u001b[43m(\u001b[49m\u001b[43m)\u001b[49m\u001b[43m)\u001b[49m\u001b[38;5;241;43m.\u001b[39;49m\u001b[43mcollect\u001b[49m() \u001b[38;5;28;01mfor\u001b[39;00m col \u001b[38;5;129;01min\u001b[39;00m df\u001b[38;5;241m.\u001b[39mcolumns}\n\u001b[0;32m     16\u001b[0m \u001b[38;5;66;03m# Exibindo os valores nulos por coluna\u001b[39;00m\n\u001b[0;32m     17\u001b[0m \u001b[38;5;28;01mfor\u001b[39;00m col, values \u001b[38;5;129;01min\u001b[39;00m null_values\u001b[38;5;241m.\u001b[39mitems():\n",
      "\u001b[1;31mAttributeError\u001b[0m: 'DataFrame' object has no attribute 'collect'"
     ]
    }
   ],
   "source": [
    "import polars as pl\n",
    "\n",
    "# Seu DataFrame (substitua isso pelo seu DataFrame real)\n",
    "data = {\n",
    "    \"timestamp\": [None, \"2022-01-02\", \"2022-01-03\"],\n",
    "    \"email_confirmation\": [\"email1@example.com\", None, \"email3@example.com\"],\n",
    "    \"day_date\": [\"2022-01-01\", \"2022-01-02\", None],\n",
    "    # ... outras colunas ...\n",
    "}\n",
    "\n",
    "df = pl.DataFrame(data)\n",
    "\n",
    "# Encontrar valores nulos em todos os campos\n",
    "null_values = {col: df.filter(pl.col(col).is_null()).collect() for col in df.columns}\n",
    "\n",
    "# Exibindo os valores nulos por coluna\n",
    "for col, values in null_values.items():\n",
    "    print(f\"Column '{col}': {values}\")\n"
   ]
  },
  {
   "cell_type": "code",
   "execution_count": 74,
   "metadata": {},
   "outputs": [
    {
     "name": "stdout",
     "output_type": "stream",
     "text": [
      "[String, Float64, String, String, Int64, Int64]\n"
     ]
    },
    {
     "data": {
      "text/html": [
       "<div><style>\n",
       ".dataframe > thead > tr,\n",
       ".dataframe > tbody > tr {\n",
       "  text-align: right;\n",
       "  white-space: pre-wrap;\n",
       "}\n",
       "</style>\n",
       "<small>shape: (5, 6)</small><table border=\"1\" class=\"dataframe\"><thead><tr><th>day_date</th><th>wgt_total</th><th>wgt_muscle</th><th>wgt_bf</th><th>wgt_rmr</th><th>wgt_cal</th></tr><tr><td>str</td><td>f64</td><td>str</td><td>str</td><td>i64</td><td>i64</td></tr></thead><tbody><tr><td>&quot;11-08-23&quot;</td><td>73.05</td><td>&quot;55.95&quot;</td><td>&quot;19.30&quot;</td><td>1598</td><td>897</td></tr><tr><td>&quot;11-07-23&quot;</td><td>73.6</td><td>&quot;56.22&quot;</td><td>&quot;19.50&quot;</td><td>1604</td><td>541</td></tr><tr><td>&quot;11-09-23&quot;</td><td>73.5</td><td>&quot;56.20&quot;</td><td>&quot;19.40&quot;</td><td>1603</td><td>609</td></tr><tr><td>&quot;11-10-23&quot;</td><td>73.5</td><td>&quot;56.20&quot;</td><td>&quot;19.40&quot;</td><td>1603</td><td>829</td></tr><tr><td>&quot;11-11-23&quot;</td><td>72.9</td><td>&quot;55.90&quot;</td><td>&quot;19.20&quot;</td><td>1594</td><td>1081</td></tr></tbody></table></div>"
      ],
      "text/plain": [
       "shape: (5, 6)\n",
       "┌──────────┬───────────┬────────────┬────────┬─────────┬─────────┐\n",
       "│ day_date ┆ wgt_total ┆ wgt_muscle ┆ wgt_bf ┆ wgt_rmr ┆ wgt_cal │\n",
       "│ ---      ┆ ---       ┆ ---        ┆ ---    ┆ ---     ┆ ---     │\n",
       "│ str      ┆ f64       ┆ str        ┆ str    ┆ i64     ┆ i64     │\n",
       "╞══════════╪═══════════╪════════════╪════════╪═════════╪═════════╡\n",
       "│ 11-08-23 ┆ 73.05     ┆ 55.95      ┆ 19.30  ┆ 1598    ┆ 897     │\n",
       "│ 11-07-23 ┆ 73.6      ┆ 56.22      ┆ 19.50  ┆ 1604    ┆ 541     │\n",
       "│ 11-09-23 ┆ 73.5      ┆ 56.20      ┆ 19.40  ┆ 1603    ┆ 609     │\n",
       "│ 11-10-23 ┆ 73.5      ┆ 56.20      ┆ 19.40  ┆ 1603    ┆ 829     │\n",
       "│ 11-11-23 ┆ 72.9      ┆ 55.90      ┆ 19.20  ┆ 1594    ┆ 1081    │\n",
       "└──────────┴───────────┴────────────┴────────┴─────────┴─────────┘"
      ]
     },
     "execution_count": 74,
     "metadata": {},
     "output_type": "execute_result"
    }
   ],
   "source": [
    "wgt_columns = [\"day_date\",\n",
    "\t\t\t   \"wgt_total\",\n",
    "\t\t\t   \"wgt_muscle\",\n",
    "\t\t\t   \"wgt_bf\",\n",
    "\t\t\t   \"wgt_rmr\",\n",
    "\t\t\t   \"wgt_cal\"]\n",
    "\n",
    "print(df_sun.select(wgt_columns).dtypes)\n",
    "\n",
    "df_sun.select(wgt_columns).head()"
   ]
  },
  {
   "cell_type": "code",
   "execution_count": 7,
   "metadata": {},
   "outputs": [
    {
     "data": {
      "text/plain": [
       "'c:\\\\Users\\\\mathe\\\\OneDrive\\\\Crescimento\\\\Crescimento Profissional\\\\compass_project\\\\files\\\\misc\\\\rename_columns.json'"
      ]
     },
     "execution_count": 7,
     "metadata": {},
     "output_type": "execute_result"
    }
   ],
   "source": [
    "config.get_file(\"misc\", \"rename_columns.json\")"
   ]
  },
  {
   "cell_type": "code",
   "execution_count": null,
   "metadata": {},
   "outputs": [],
   "source": []
  }
 ],
 "metadata": {
  "kernelspec": {
   "display_name": "Python 3",
   "language": "python",
   "name": "python3"
  },
  "language_info": {
   "codemirror_mode": {
    "name": "ipython",
    "version": 3
   },
   "file_extension": ".py",
   "mimetype": "text/x-python",
   "name": "python",
   "nbconvert_exporter": "python",
   "pygments_lexer": "ipython3",
   "version": "3.10.11"
  }
 },
 "nbformat": 4,
 "nbformat_minor": 2
}
