{
 "cells": [
  {
   "cell_type": "markdown",
   "metadata": {},
   "source": [
    "# Imports"
   ]
  },
  {
   "cell_type": "markdown",
   "metadata": {},
   "source": [
    "## Libraries"
   ]
  },
  {
   "cell_type": "code",
   "execution_count": 44,
   "metadata": {},
   "outputs": [],
   "source": [
    "from datetime import datetime, timedelta\n",
    "import polars as pl\n",
    "import json\n",
    "import sys"
   ]
  },
  {
   "cell_type": "code",
   "execution_count": 45,
   "metadata": {},
   "outputs": [],
   "source": [
    "sys.path.append('..')\n",
    "from config.settings import Config"
   ]
  },
  {
   "cell_type": "markdown",
   "metadata": {},
   "source": [
    "## Configurations"
   ]
  },
  {
   "cell_type": "code",
   "execution_count": 46,
   "metadata": {},
   "outputs": [],
   "source": [
    "config = Config(\"dev\")"
   ]
  },
  {
   "cell_type": "markdown",
   "metadata": {},
   "source": [
    "## Data"
   ]
  },
  {
   "cell_type": "code",
   "execution_count": 50,
   "metadata": {},
   "outputs": [],
   "source": [
    "# PATHS\n",
    "morning_path = config.get_file(\"cleaned\", \"mrn_cleaned.parquet\")\n",
    "\n",
    "# DATA TABLES\n",
    "df_cleaned = pl.read_parquet(morning_path)"
   ]
  },
  {
   "cell_type": "code",
   "execution_count": 51,
   "metadata": {},
   "outputs": [
    {
     "data": {
      "text/html": [
       "<div><style>\n",
       ".dataframe > thead > tr,\n",
       ".dataframe > tbody > tr {\n",
       "  text-align: right;\n",
       "  white-space: pre-wrap;\n",
       "}\n",
       "</style>\n",
       "<small>shape: (78, 24)</small><table border=\"1\" class=\"dataframe\"><thead><tr><th>timestamp</th><th>email_confirmation</th><th>day_date</th><th>day_form_time</th><th>day_humor</th><th>pho_time</th><th>slp_fall</th><th>slp_raise</th><th>slp_duration</th><th>slp_awake</th><th>slp_rem</th><th>slp_light</th><th>slp_deep</th><th>wgt_total</th><th>wgt_muscle</th><th>wgt_bf</th><th>wgt_rmr</th><th>wgt_cal</th><th>grn_priority</th><th>red_priority</th><th>blu_priority</th><th>ylw_priority</th><th>prp_priority</th><th>day_priority</th></tr><tr><td>str</td><td>str</td><td>date</td><td>datetime[μs]</td><td>str</td><td>duration[μs]</td><td>datetime[μs]</td><td>datetime[μs]</td><td>duration[μs]</td><td>f64</td><td>f64</td><td>f64</td><td>f64</td><td>f64</td><td>f64</td><td>f64</td><td>i64</td><td>i64</td><td>str</td><td>str</td><td>str</td><td>str</td><td>str</td><td>list[str]</td></tr></thead><tbody><tr><td>&quot;2023-11-08T11:…</td><td>&quot;matheuschomem@…</td><td>2023-11-07</td><td>2023-11-08 06:58:00</td><td>&quot;Lua&quot;</td><td>null</td><td>2023-11-07 20:55:00</td><td>2023-11-08 04:50:00</td><td>7h 55m</td><td>0.0</td><td>17.0</td><td>65.0</td><td>17.0</td><td>73.6</td><td>56.22</td><td>19.5</td><td>1604</td><td>541</td><td>&quot;Praticar&quot;</td><td>&quot;Priorizar&quot;</td><td>&quot;Praticar&quot;</td><td>&quot;Manter&quot;</td><td>&quot;Manter&quot;</td><td>[&quot;◇◈◇◇◇ Atenção à Limitação&quot;]</td></tr><tr><td>&quot;2023-11-08T11:…</td><td>&quot;matheuschomem@…</td><td>2023-11-08</td><td>2023-11-09 07:42:00</td><td>&quot;Sol&quot;</td><td>null</td><td>2023-11-08 20:58:00</td><td>2023-11-09 04:50:00</td><td>7h 52m</td><td>1.0</td><td>11.5</td><td>75.0</td><td>11.5</td><td>73.05</td><td>55.95</td><td>19.3</td><td>1598</td><td>897</td><td>&quot;Priorizar&quot;</td><td>&quot;Praticar&quot;</td><td>&quot;Manter&quot;</td><td>&quot;Manter&quot;</td><td>&quot;Praticar&quot;</td><td>[&quot;◈◇◇◇◇ Leitura&quot;]</td></tr><tr><td>&quot;2023-11-09T11:…</td><td>&quot;matheuschomem@…</td><td>2023-11-09</td><td>2023-11-10 05:21:00</td><td>&quot;Sol&quot;</td><td>null</td><td>2023-11-09 21:39:00</td><td>2023-11-10 05:05:00</td><td>7h 26m</td><td>1.0</td><td>14.5</td><td>69.0</td><td>14.5</td><td>73.5</td><td>56.2</td><td>19.4</td><td>1603</td><td>609</td><td>&quot;Praticar&quot;</td><td>&quot;Manter&quot;</td><td>&quot;Manter&quot;</td><td>&quot;Praticar&quot;</td><td>&quot;Priorizar&quot;</td><td>[&quot;◈◇◇◇◇ Leitura&quot;]</td></tr><tr><td>&quot;2023-11-10T11:…</td><td>&quot;matheuschomem@…</td><td>2023-11-10</td><td>2023-11-11 05:10:00</td><td>&quot;Sol&quot;</td><td>null</td><td>2023-11-10 20:47:00</td><td>2023-11-11 05:03:00</td><td>8h 16m</td><td>1.0</td><td>16.0</td><td>66.0</td><td>16.0</td><td>73.5</td><td>56.2</td><td>19.4</td><td>1603</td><td>829</td><td>&quot;Priorizar&quot;</td><td>&quot;Praticar&quot;</td><td>&quot;Manter&quot;</td><td>&quot;Manter&quot;</td><td>&quot;Praticar&quot;</td><td>[&quot;◈◇◇◇◇ Leitura&quot;]</td></tr><tr><td>&quot;2023-11-11T11:…</td><td>&quot;matheuschomem@…</td><td>2023-11-11</td><td>2023-11-12 05:01:00</td><td>&quot;Sol&quot;</td><td>null</td><td>2023-11-11 21:37:00</td><td>2023-11-12 04:52:00</td><td>7h 15m</td><td>0.0</td><td>19.0</td><td>61.0</td><td>19.0</td><td>72.9</td><td>55.9</td><td>19.2</td><td>1594</td><td>1081</td><td>&quot;Priorizar&quot;</td><td>&quot;Manter&quot;</td><td>&quot;Praticar&quot;</td><td>&quot;Manter&quot;</td><td>&quot;Praticar&quot;</td><td>[&quot;◈◇◇◇◇ Leitura&quot;]</td></tr><tr><td>&quot;2023-11-12T11:…</td><td>&quot;matheuschomem@…</td><td>2023-11-12</td><td>2023-11-13 09:59:00</td><td>&quot;Sol&quot;</td><td>null</td><td>2023-11-12 22:49:00</td><td>2023-11-13 08:07:00</td><td>9h 18m</td><td>1.0</td><td>10.0</td><td>78.0</td><td>10.0</td><td>72.4</td><td>55.76</td><td>18.8</td><td>1586</td><td>1273</td><td>&quot;Praticar&quot;</td><td>&quot;Manter&quot;</td><td>&quot;Manter&quot;</td><td>&quot;Praticar&quot;</td><td>&quot;Priorizar&quot;</td><td>[&quot;◇◇◇◇◈ Desaceleração&quot;]</td></tr><tr><td>&quot;2023-11-13T11:…</td><td>&quot;matheuschomem@…</td><td>2023-11-13</td><td>2023-11-14 04:57:00</td><td>&quot;Sol&quot;</td><td>null</td><td>2023-11-13 21:26:00</td><td>2023-11-14 04:20:00</td><td>6h 54m</td><td>0.0</td><td>13.5</td><td>71.0</td><td>13.5</td><td>72.75</td><td>55.88</td><td>19.1</td><td>1592</td><td>1049</td><td>&quot;Praticar&quot;</td><td>&quot;Priorizar&quot;</td><td>&quot;Manter&quot;</td><td>&quot;Manter&quot;</td><td>&quot;Praticar&quot;</td><td>[&quot;◇◈◇◇◇ Trabalho&quot;]</td></tr><tr><td>&quot;11/14/2023 08:…</td><td>&quot;matheuschomem@…</td><td>2023-11-14</td><td>2023-11-15 05:19:00</td><td>&quot;Sol&quot;</td><td>null</td><td>2023-11-14 20:57:00</td><td>2023-11-15 05:10:00</td><td>8h 13m</td><td>1.0</td><td>17.5</td><td>63.0</td><td>17.5</td><td>72.95</td><td>55.95</td><td>19.2</td><td>1595</td><td>530</td><td>&quot;Priorizar&quot;</td><td>&quot;Praticar&quot;</td><td>&quot;Manter&quot;</td><td>&quot;Manter&quot;</td><td>&quot;Praticar&quot;</td><td>[&quot;◈◇◇◇◇ Leitura&quot;]</td></tr><tr><td>&quot;11/15/2023 05:…</td><td>&quot;matheuschomem@…</td><td>2023-11-15</td><td>2023-11-16 05:30:00</td><td>&quot;Sol&quot;</td><td>2h 13m</td><td>2023-11-15 22:43:00</td><td>2023-11-16 05:18:00</td><td>6h 35m</td><td>2.0</td><td>15.0</td><td>67.0</td><td>15.0</td><td>72.95</td><td>55.97</td><td>19.2</td><td>1595</td><td>586</td><td>&quot;Praticar&quot;</td><td>&quot;Manter&quot;</td><td>&quot;Praticar&quot;</td><td>&quot;Priorizar&quot;</td><td>&quot;Manter&quot;</td><td>[&quot;◈◇◇◇◇ Leitura, ◇◇◈◇◇ Exercício Inferior, ◇◇◇◈◇ Família&quot;]</td></tr><tr><td>&quot;11/16/2023 07:…</td><td>&quot;matheuschomem@…</td><td>2023-11-16</td><td>2023-11-17 07:38:00</td><td>&quot;Sol&quot;</td><td>2h 30m</td><td>2023-11-16 00:07:00</td><td>2023-11-17 07:30:00</td><td>7h 23m</td><td>3.0</td><td>17.0</td><td>62.0</td><td>17.0</td><td>72.3</td><td>55.87</td><td>18.6</td><td>1585</td><td>1088</td><td>&quot;Praticar&quot;</td><td>&quot;Priorizar&quot;</td><td>&quot;Manter&quot;</td><td>&quot;Praticar&quot;</td><td>&quot;Manter&quot;</td><td>[&quot;◈◇◇◇◇ Leitura, ◇◈◇◇◇ Trabalho, ◇◇◇◈◇ Sociedade&quot;]</td></tr><tr><td>&quot;11/17/2023 05:…</td><td>&quot;matheuschomem@…</td><td>2023-11-17</td><td>2023-11-18 05:12:00</td><td>&quot;Sol&quot;</td><td>3h 15m</td><td>2023-11-17 21:26:00</td><td>2023-11-18 05:03:00</td><td>7h 37m</td><td>1.0</td><td>19.0</td><td>60.0</td><td>19.0</td><td>72.45</td><td>55.89</td><td>18.7</td><td>1587</td><td>793</td><td>&quot;Priorizar&quot;</td><td>&quot;Manter&quot;</td><td>&quot;Praticar&quot;</td><td>&quot;Manter&quot;</td><td>&quot;Praticar&quot;</td><td>[&quot;◈◇◇◇◇ Leitura, ◇◇◈◇◇ Exercício Superior, ◇◇◇◇◈ Estudo Espiritual&quot;]</td></tr><tr><td>&quot;11/18/2023 06:…</td><td>&quot;matheuschomem@…</td><td>2023-11-18</td><td>2023-11-19 06:38:00</td><td>&quot;Sol&quot;</td><td>3h 41m</td><td>2023-11-18 23:05:00</td><td>2023-11-19 06:31:00</td><td>7h 26m</td><td>0.0</td><td>18.5</td><td>61.0</td><td>18.5</td><td>72.7</td><td>55.94</td><td>18.9</td><td>1591</td><td>627</td><td>&quot;Praticar&quot;</td><td>&quot;Manter&quot;</td><td>&quot;Praticar&quot;</td><td>&quot;Manter&quot;</td><td>&quot;Priorizar&quot;</td><td>[&quot;◈◇◇◇◇ Leitura, ◇◇◈◇◇ Exercício Inferior, ◇◇◇◇◈ Meditação&quot;]</td></tr><tr><td>&hellip;</td><td>&hellip;</td><td>&hellip;</td><td>&hellip;</td><td>&hellip;</td><td>&hellip;</td><td>&hellip;</td><td>&hellip;</td><td>&hellip;</td><td>&hellip;</td><td>&hellip;</td><td>&hellip;</td><td>&hellip;</td><td>&hellip;</td><td>&hellip;</td><td>&hellip;</td><td>&hellip;</td><td>&hellip;</td><td>&hellip;</td><td>&hellip;</td><td>&hellip;</td><td>&hellip;</td><td>&hellip;</td><td>&hellip;</td></tr><tr><td>&quot;2024-01-12T08:…</td><td>&quot;matheuschomem8…</td><td>2024-01-12</td><td>2024-01-13 05:20:00</td><td>&quot;Sol&quot;</td><td>54m</td><td>2024-01-12 20:56:00</td><td>2024-01-13 05:08:00</td><td>8h 12m</td><td>7.0</td><td>27.0</td><td>46.0</td><td>20.0</td><td>73.3</td><td>56.09</td><td>19.4</td><td>1600</td><td>200</td><td>&quot;Manter&quot;</td><td>&quot;Manter&quot;</td><td>&quot;Manter&quot;</td><td>&quot;Manter&quot;</td><td>&quot;Manter&quot;</td><td>[&quot;◇◇◇◇◇ lull&quot;]</td></tr><tr><td>&quot;2024-01-13T23:…</td><td>&quot;matheuschomem8…</td><td>2024-01-13</td><td>2024-01-14 20:09:00</td><td>&quot;Sol&quot;</td><td>2h 29m</td><td>2024-01-13 00:01:00</td><td>2024-01-14 06:33:00</td><td>6h 32m</td><td>6.0</td><td>25.0</td><td>51.0</td><td>18.0</td><td>73.3</td><td>56.92</td><td>19.3</td><td>1598</td><td>386</td><td>&quot;Manter&quot;</td><td>&quot;Manter&quot;</td><td>&quot;Manter&quot;</td><td>&quot;Manter&quot;</td><td>&quot;Manter&quot;</td><td>[&quot;◇◇◇◇◇ lull&quot;]</td></tr><tr><td>&quot;2024-01-14T08:…</td><td>&quot;matheuschomem8…</td><td>2024-01-14</td><td>2024-01-15 05:11:00</td><td>&quot;Sol&quot;</td><td>2h 42m</td><td>2024-01-14 21:38:00</td><td>2024-01-15 05:03:00</td><td>7h 25m</td><td>6.0</td><td>28.0</td><td>51.0</td><td>15.0</td><td>73.05</td><td>55.95</td><td>19.3</td><td>1596</td><td>474</td><td>&quot;Manter&quot;</td><td>&quot;Manter&quot;</td><td>&quot;Manter&quot;</td><td>&quot;Manter&quot;</td><td>&quot;Manter&quot;</td><td>[&quot;◇◇◇◇◇ lull&quot;]</td></tr><tr><td>&quot;2024-01-15T08:…</td><td>&quot;matheuschomem8…</td><td>2024-01-15</td><td>2024-01-16 05:12:00</td><td>&quot;Sol&quot;</td><td>3h 32m</td><td>2024-01-15 21:21:00</td><td>2024-01-16 04:51:00</td><td>7h 30m</td><td>7.0</td><td>19.0</td><td>55.0</td><td>19.0</td><td>72.4</td><td>55.81</td><td>18.8</td><td>1586</td><td>985</td><td>&quot;Manter&quot;</td><td>&quot;Priorizar&quot;</td><td>&quot;Manter&quot;</td><td>&quot;Manter&quot;</td><td>&quot;Manter&quot;</td><td>[&quot;◇◈◇◇◇ Trabalho, ◇◈◇◇◇ Experiência&quot;]</td></tr><tr><td>&quot;2024-01-16T08:…</td><td>&quot;matheuschomem8…</td><td>2024-01-16</td><td>2024-01-17 05:11:00</td><td>&quot;Sol&quot;</td><td>3h 41m</td><td>2024-01-16 21:17:00</td><td>2024-01-17 05:00:00</td><td>7h 43m</td><td>9.0</td><td>21.0</td><td>58.0</td><td>12.0</td><td>72.7</td><td>55.8</td><td>19.1</td><td>1591</td><td>242</td><td>&quot;Caminhar&quot;</td><td>&quot;Caminhar&quot;</td><td>&quot;Permanecer&quot;</td><td>&quot;Caminhar&quot;</td><td>&quot;Caminhar&quot;</td><td>[&quot;◈◇◇◇◇ Leitura, ◇◈◇◇◇ Trabalho, ◇◇◇◈◇ Família, ◇◇◇◇◈ Meditação&quot;]</td></tr><tr><td>&quot;2024-01-17T08:…</td><td>&quot;matheuschomem8…</td><td>2024-01-17</td><td>2024-01-18 05:12:00</td><td>&quot;Sol&quot;</td><td>4h 21m</td><td>2024-01-17 21:20:00</td><td>2024-01-18 05:00:00</td><td>7h 40m</td><td>10.0</td><td>16.0</td><td>58.0</td><td>16.0</td><td>72.7</td><td>55.81</td><td>19.1</td><td>1591</td><td>232</td><td>&quot;Permanecer&quot;</td><td>&quot;Erguer&quot;</td><td>&quot;Permanecer&quot;</td><td>&quot;Erguer&quot;</td><td>&quot;Erguer&quot;</td><td>[&quot;◈◇◇◇◇ Boas Práticas, ◇◈◇◇◇ Trabalho, ◇◇◈◇◇ Nutrição, ◇◇◇◈◇ Família, ◇◇◇◇◈ Excelência&quot;]</td></tr><tr><td>&quot;2024-01-18T08:…</td><td>&quot;matheuschomem8…</td><td>2024-01-18</td><td>2024-01-19 05:09:00</td><td>&quot;Sol&quot;</td><td>8h 50m</td><td>2024-01-18 22:59:00</td><td>2024-01-19 05:02:00</td><td>6h 3m</td><td>8.0</td><td>24.0</td><td>54.0</td><td>14.0</td><td>71.75</td><td>55.47</td><td>18.3</td><td>1573</td><td>865</td><td>&quot;Expansão&quot;</td><td>&quot;Expansão&quot;</td><td>&quot;Contração&quot;</td><td>&quot;Expansão&quot;</td><td>&quot;Expansão&quot;</td><td>[&quot;◈◇◇◇◇ Leitura, ◇◈◇◇◇ Trabalho, ◇◇◇◈◇ Família, ◇◇◇◇◈ Desaceleração&quot;]</td></tr><tr><td>&quot;2024-01-19T08:…</td><td>&quot;matheuschomem8…</td><td>2024-01-19</td><td>2024-01-20 05:12:00</td><td>&quot;Sol&quot;</td><td>57m</td><td>2024-01-19 21:16:00</td><td>2024-01-20 05:12:00</td><td>7h 46m</td><td>9.0</td><td>30.0</td><td>43.0</td><td>18.0</td><td>73.0</td><td>56.1</td><td>19.0</td><td>1595</td><td>193</td><td>&quot;Expansão&quot;</td><td>&quot;Expansão&quot;</td><td>&quot;Expansão&quot;</td><td>&quot;Expansão&quot;</td><td>&quot;Expansão&quot;</td><td>[&quot;◈◇◇◇◇ Boas Práticas, ◇◈◇◇◇ Experiência, ◇◇◈◇◇ Exercício Superior, ◇◇◇◈◇ Sociedade, ◇◇◇◇◈ Excelência&quot;]</td></tr><tr><td>&quot;2024-01-20T09:…</td><td>&quot;matheuschomem8…</td><td>2024-01-20</td><td>2024-01-21 06:36:00</td><td>&quot;Sol&quot;</td><td>5h 25m</td><td>2024-01-20 19:36:00</td><td>2024-01-21 06:25:00</td><td>10h 39m</td><td>13.0</td><td>19.0</td><td>61.0</td><td>7.0</td><td>73.0</td><td>56.09</td><td>19.0</td><td>1595</td><td>286</td><td>&quot;Contração&quot;</td><td>&quot;Contração&quot;</td><td>&quot;Contração&quot;</td><td>&quot;ReEstruturar&quot;</td><td>&quot;Contração&quot;</td><td>[&quot;◇◇◇◈◇ Amigos, ◇◇◇◇◇ lull&quot;]</td></tr><tr><td>&quot;2024-01-21T07:…</td><td>&quot;matheuschomem8…</td><td>2024-01-21</td><td>2024-01-22 04:11:00</td><td>&quot;Sol&quot;</td><td>1h 9m</td><td>2024-01-21 21:24:00</td><td>2024-01-22 04:02:00</td><td>6h 38m</td><td>10.0</td><td>32.0</td><td>45.0</td><td>13.0</td><td>72.15</td><td>55.68</td><td>18.7</td><td>1583</td><td>359</td><td>&quot;Expansão&quot;</td><td>&quot;Expansão&quot;</td><td>&quot;Contração&quot;</td><td>&quot;Expansão&quot;</td><td>&quot;Expansão&quot;</td><td>[&quot;◈◇◇◇◇ Leitura, ◇◈◇◇◇ Experiência, ◇◇◇◈◇ Sociedade, ◇◇◇◇◈ Meditação&quot;]</td></tr><tr><td>&quot;2024-01-22T08:…</td><td>&quot;matheuschomem8…</td><td>2024-01-22</td><td>2024-01-23 05:12:00</td><td>&quot;Sol&quot;</td><td>2h 27m</td><td>2024-01-22 21:09:00</td><td>2024-01-23 05:05:00</td><td>7h 56m</td><td>6.0</td><td>26.0</td><td>52.0</td><td>16.0</td><td>73.05</td><td>56.01</td><td>19.2</td><td>1596</td><td>508</td><td>&quot;Expansão&quot;</td><td>&quot;Expansão&quot;</td><td>&quot;Contração&quot;</td><td>&quot;Expansão&quot;</td><td>&quot;Expansão&quot;</td><td>[&quot;◈◇◇◇◇ Leitura, ◇◈◇◇◇ Trabalho, ◇◈◇◇◇ Experiência, ◇◇◇◈◇ Sociedade, ◇◇◇◇◈ Desaceleração, ◇◇◇◇◈ Meditação&quot;]</td></tr><tr><td>&quot;2024-01-23T08:…</td><td>&quot;matheuschomem8…</td><td>2024-01-23</td><td>2024-01-24 05:06:00</td><td>&quot;Sol&quot;</td><td>3h 11m</td><td>2024-01-23 21:04:00</td><td>2024-01-24 05:02:00</td><td>7h 58m</td><td>6.0</td><td>22.0</td><td>57.0</td><td>15.0</td><td>72.0</td><td>55.66</td><td>18.5</td><td>1580</td><td>118</td><td>&quot;Expansão&quot;</td><td>&quot;Expansão&quot;</td><td>&quot;Contração&quot;</td><td>&quot;Expansão&quot;</td><td>&quot;Expansão&quot;</td><td>[&quot;◈◇◇◇◇ Leitura, ◇◈◇◇◇ Trabalho, ◇◈◇◇◇ Experiência, ◇◇◇◈◇ Sociedade, ◇◇◇◇◈ Desaceleração, ◇◇◇◇◈ Meditação&quot;]</td></tr></tbody></table></div>"
      ],
      "text/plain": [
       "shape: (78, 24)\n",
       "┌───────────┬───────────┬───────────┬───────────┬───┬───────────┬───────────┬───────────┬──────────┐\n",
       "│ timestamp ┆ email_con ┆ day_date  ┆ day_form_ ┆ … ┆ blu_prior ┆ ylw_prior ┆ prp_prior ┆ day_prio │\n",
       "│ ---       ┆ firmation ┆ ---       ┆ time      ┆   ┆ ity       ┆ ity       ┆ ity       ┆ rity     │\n",
       "│ str       ┆ ---       ┆ date      ┆ ---       ┆   ┆ ---       ┆ ---       ┆ ---       ┆ ---      │\n",
       "│           ┆ str       ┆           ┆ datetime[ ┆   ┆ str       ┆ str       ┆ str       ┆ list[str │\n",
       "│           ┆           ┆           ┆ μs]       ┆   ┆           ┆           ┆           ┆ ]        │\n",
       "╞═══════════╪═══════════╪═══════════╪═══════════╪═══╪═══════════╪═══════════╪═══════════╪══════════╡\n",
       "│ 2023-11-0 ┆ matheusch ┆ 2023-11-0 ┆ 2023-11-0 ┆ … ┆ Praticar  ┆ Manter    ┆ Manter    ┆ [\"◇◈◇◇◇  │\n",
       "│ 8T11:34:5 ┆ omem@hotm ┆ 7         ┆ 8         ┆   ┆           ┆           ┆           ┆ Atenção  │\n",
       "│ 0.035Z    ┆ ail.com   ┆           ┆ 06:58:00  ┆   ┆           ┆           ┆           ┆ à Limita │\n",
       "│           ┆           ┆           ┆           ┆   ┆           ┆           ┆           ┆ ção\"]    │\n",
       "│ 2023-11-0 ┆ matheusch ┆ 2023-11-0 ┆ 2023-11-0 ┆ … ┆ Manter    ┆ Manter    ┆ Praticar  ┆ [\"◈◇◇◇◇  │\n",
       "│ 8T11:34:5 ┆ omem@hotm ┆ 8         ┆ 9         ┆   ┆           ┆           ┆           ┆ Leitura\" │\n",
       "│ 0.035Z    ┆ ail.com   ┆           ┆ 07:42:00  ┆   ┆           ┆           ┆           ┆ ]        │\n",
       "│ 2023-11-0 ┆ matheusch ┆ 2023-11-0 ┆ 2023-11-1 ┆ … ┆ Manter    ┆ Praticar  ┆ Priorizar ┆ [\"◈◇◇◇◇  │\n",
       "│ 9T11:34:5 ┆ omem@hotm ┆ 9         ┆ 0         ┆   ┆           ┆           ┆           ┆ Leitura\" │\n",
       "│ 0.035Z    ┆ ail.com   ┆           ┆ 05:21:00  ┆   ┆           ┆           ┆           ┆ ]        │\n",
       "│ 2023-11-1 ┆ matheusch ┆ 2023-11-1 ┆ 2023-11-1 ┆ … ┆ Manter    ┆ Manter    ┆ Praticar  ┆ [\"◈◇◇◇◇  │\n",
       "│ 0T11:34:5 ┆ omem@hotm ┆ 0         ┆ 1         ┆   ┆           ┆           ┆           ┆ Leitura\" │\n",
       "│ 0.035Z    ┆ ail.com   ┆           ┆ 05:10:00  ┆   ┆           ┆           ┆           ┆ ]        │\n",
       "│ …         ┆ …         ┆ …         ┆ …         ┆ … ┆ …         ┆ …         ┆ …         ┆ …        │\n",
       "│ 2024-01-2 ┆ matheusch ┆ 2024-01-2 ┆ 2024-01-2 ┆ … ┆ Contração ┆ ReEstrutu ┆ Contração ┆ [\"◇◇◇◈◇  │\n",
       "│ 0T09:40:0 ┆ omem8@gma ┆ 0         ┆ 1         ┆   ┆           ┆ rar       ┆           ┆ Amigos,  │\n",
       "│ 7.746Z    ┆ il.com    ┆           ┆ 06:36:00  ┆   ┆           ┆           ┆           ┆ ◇◇◇◇◇    │\n",
       "│           ┆           ┆           ┆           ┆   ┆           ┆           ┆           ┆ lull\"]   │\n",
       "│ 2024-01-2 ┆ matheusch ┆ 2024-01-2 ┆ 2024-01-2 ┆ … ┆ Contração ┆ Expansão  ┆ Expansão  ┆ [\"◈◇◇◇◇  │\n",
       "│ 1T07:15:2 ┆ omem8@gma ┆ 1         ┆ 2         ┆   ┆           ┆           ┆           ┆ Leitura, │\n",
       "│ 6.553Z    ┆ il.com    ┆           ┆ 04:11:00  ┆   ┆           ┆           ┆           ┆ ◇◈◇◇◇    │\n",
       "│           ┆           ┆           ┆           ┆   ┆           ┆           ┆           ┆ Experiên │\n",
       "│           ┆           ┆           ┆           ┆   ┆           ┆           ┆           ┆ c…       │\n",
       "│ 2024-01-2 ┆ matheusch ┆ 2024-01-2 ┆ 2024-01-2 ┆ … ┆ Contração ┆ Expansão  ┆ Expansão  ┆ [\"◈◇◇◇◇  │\n",
       "│ 2T08:17:0 ┆ omem8@gma ┆ 2         ┆ 3         ┆   ┆           ┆           ┆           ┆ Leitura, │\n",
       "│ 6.705Z    ┆ il.com    ┆           ┆ 05:12:00  ┆   ┆           ┆           ┆           ┆ ◇◈◇◇◇    │\n",
       "│           ┆           ┆           ┆           ┆   ┆           ┆           ┆           ┆ Trabalho │\n",
       "│           ┆           ┆           ┆           ┆   ┆           ┆           ┆           ┆ ,…       │\n",
       "│ 2024-01-2 ┆ matheusch ┆ 2024-01-2 ┆ 2024-01-2 ┆ … ┆ Contração ┆ Expansão  ┆ Expansão  ┆ [\"◈◇◇◇◇  │\n",
       "│ 3T08:15:4 ┆ omem8@gma ┆ 3         ┆ 4         ┆   ┆           ┆           ┆           ┆ Leitura, │\n",
       "│ 3.299Z    ┆ il.com    ┆           ┆ 05:06:00  ┆   ┆           ┆           ┆           ┆ ◇◈◇◇◇    │\n",
       "│           ┆           ┆           ┆           ┆   ┆           ┆           ┆           ┆ Trabalho │\n",
       "│           ┆           ┆           ┆           ┆   ┆           ┆           ┆           ┆ ,…       │\n",
       "└───────────┴───────────┴───────────┴───────────┴───┴───────────┴───────────┴───────────┴──────────┘"
      ]
     },
     "execution_count": 51,
     "metadata": {},
     "output_type": "execute_result"
    }
   ],
   "source": [
    "df_cleaned"
   ]
  },
  {
   "cell_type": "code",
   "execution_count": 43,
   "metadata": {},
   "outputs": [
    {
     "data": {
      "text/html": [
       "<div><style>\n",
       ".dataframe > thead > tr,\n",
       ".dataframe > tbody > tr {\n",
       "  text-align: right;\n",
       "  white-space: pre-wrap;\n",
       "}\n",
       "</style>\n",
       "<small>shape: (5, 24)</small><table border=\"1\" class=\"dataframe\"><thead><tr><th>timestamp</th><th>email_confirmation</th><th>day_date</th><th>day_form_time</th><th>day_humor</th><th>pho_time</th><th>slp_fall</th><th>slp_raise</th><th>slp_duration</th><th>slp_awake</th><th>slp_rem</th><th>slp_light</th><th>slp_deep</th><th>wgt_total</th><th>wgt_muscle</th><th>wgt_bf</th><th>wgt_rmr</th><th>wgt_cal</th><th>grn_priority</th><th>red_priority</th><th>blu_priority</th><th>ylw_priority</th><th>prp_priority</th><th>day_priority</th></tr><tr><td>str</td><td>str</td><td>date</td><td>datetime[μs]</td><td>str</td><td>duration[μs]</td><td>datetime[μs]</td><td>datetime[μs]</td><td>duration[μs]</td><td>f64</td><td>f64</td><td>f64</td><td>f64</td><td>f64</td><td>f64</td><td>f64</td><td>i64</td><td>i64</td><td>str</td><td>str</td><td>str</td><td>str</td><td>str</td><td>list[str]</td></tr></thead><tbody><tr><td>&quot;2023-11-08T11:…</td><td>&quot;matheuschomem@…</td><td>2023-11-09</td><td>2023-11-10 07:42:00</td><td>&quot;Sol&quot;</td><td>null</td><td>2023-11-09 20:58:00</td><td>2023-11-10 04:50:00</td><td>7h 52m</td><td>1.0</td><td>11.5</td><td>75.0</td><td>11.5</td><td>73.05</td><td>55.95</td><td>19.3</td><td>1598</td><td>897</td><td>&quot;Priorizar&quot;</td><td>&quot;Praticar&quot;</td><td>&quot;Manter&quot;</td><td>&quot;Manter&quot;</td><td>&quot;Praticar&quot;</td><td>[&quot;◈◇◇◇◇ Leitura&quot;]</td></tr><tr><td>&quot;2023-11-08T11:…</td><td>&quot;matheuschomem@…</td><td>2023-11-08</td><td>2023-11-09 06:58:00</td><td>&quot;Lua&quot;</td><td>null</td><td>2023-11-08 20:55:00</td><td>2023-11-09 04:50:00</td><td>7h 55m</td><td>0.0</td><td>17.0</td><td>65.0</td><td>17.0</td><td>73.6</td><td>56.22</td><td>19.5</td><td>1604</td><td>541</td><td>&quot;Praticar&quot;</td><td>&quot;Priorizar&quot;</td><td>&quot;Praticar&quot;</td><td>&quot;Manter&quot;</td><td>&quot;Manter&quot;</td><td>[&quot;◇◈◇◇◇ Atenção à Limitação&quot;]</td></tr><tr><td>&quot;2023-11-09T11:…</td><td>&quot;matheuschomem@…</td><td>2023-11-10</td><td>2023-11-11 05:21:00</td><td>&quot;Sol&quot;</td><td>null</td><td>2023-11-10 21:39:00</td><td>2023-11-11 05:05:00</td><td>7h 26m</td><td>1.0</td><td>14.5</td><td>69.0</td><td>14.5</td><td>73.5</td><td>56.2</td><td>19.4</td><td>1603</td><td>609</td><td>&quot;Praticar&quot;</td><td>&quot;Manter&quot;</td><td>&quot;Manter&quot;</td><td>&quot;Praticar&quot;</td><td>&quot;Priorizar&quot;</td><td>[&quot;◈◇◇◇◇ Leitura&quot;]</td></tr><tr><td>&quot;2023-11-10T11:…</td><td>&quot;matheuschomem@…</td><td>2023-11-11</td><td>2023-11-12 05:10:00</td><td>&quot;Sol&quot;</td><td>null</td><td>2023-11-11 20:47:00</td><td>2023-11-12 05:03:00</td><td>8h 16m</td><td>1.0</td><td>16.0</td><td>66.0</td><td>16.0</td><td>73.5</td><td>56.2</td><td>19.4</td><td>1603</td><td>829</td><td>&quot;Priorizar&quot;</td><td>&quot;Praticar&quot;</td><td>&quot;Manter&quot;</td><td>&quot;Manter&quot;</td><td>&quot;Praticar&quot;</td><td>[&quot;◈◇◇◇◇ Leitura&quot;]</td></tr><tr><td>&quot;2023-11-11T11:…</td><td>&quot;matheuschomem@…</td><td>2023-11-12</td><td>2023-11-13 05:01:00</td><td>&quot;Sol&quot;</td><td>null</td><td>2023-11-12 21:37:00</td><td>2023-11-13 04:52:00</td><td>7h 15m</td><td>0.0</td><td>19.0</td><td>61.0</td><td>19.0</td><td>72.9</td><td>55.9</td><td>19.2</td><td>1594</td><td>1081</td><td>&quot;Priorizar&quot;</td><td>&quot;Manter&quot;</td><td>&quot;Praticar&quot;</td><td>&quot;Manter&quot;</td><td>&quot;Praticar&quot;</td><td>[&quot;◈◇◇◇◇ Leitura&quot;]</td></tr></tbody></table></div>"
      ],
      "text/plain": [
       "shape: (5, 24)\n",
       "┌───────────┬───────────┬───────────┬───────────┬───┬───────────┬───────────┬───────────┬──────────┐\n",
       "│ timestamp ┆ email_con ┆ day_date  ┆ day_form_ ┆ … ┆ blu_prior ┆ ylw_prior ┆ prp_prior ┆ day_prio │\n",
       "│ ---       ┆ firmation ┆ ---       ┆ time      ┆   ┆ ity       ┆ ity       ┆ ity       ┆ rity     │\n",
       "│ str       ┆ ---       ┆ date      ┆ ---       ┆   ┆ ---       ┆ ---       ┆ ---       ┆ ---      │\n",
       "│           ┆ str       ┆           ┆ datetime[ ┆   ┆ str       ┆ str       ┆ str       ┆ list[str │\n",
       "│           ┆           ┆           ┆ μs]       ┆   ┆           ┆           ┆           ┆ ]        │\n",
       "╞═══════════╪═══════════╪═══════════╪═══════════╪═══╪═══════════╪═══════════╪═══════════╪══════════╡\n",
       "│ 2023-11-0 ┆ matheusch ┆ 2023-11-0 ┆ 2023-11-1 ┆ … ┆ Manter    ┆ Manter    ┆ Praticar  ┆ [\"◈◇◇◇◇  │\n",
       "│ 8T11:34:5 ┆ omem@hotm ┆ 9         ┆ 0         ┆   ┆           ┆           ┆           ┆ Leitura\" │\n",
       "│ 0.035Z    ┆ ail.com   ┆           ┆ 07:42:00  ┆   ┆           ┆           ┆           ┆ ]        │\n",
       "│ 2023-11-0 ┆ matheusch ┆ 2023-11-0 ┆ 2023-11-0 ┆ … ┆ Praticar  ┆ Manter    ┆ Manter    ┆ [\"◇◈◇◇◇  │\n",
       "│ 8T11:34:5 ┆ omem@hotm ┆ 8         ┆ 9         ┆   ┆           ┆           ┆           ┆ Atenção  │\n",
       "│ 0.035Z    ┆ ail.com   ┆           ┆ 06:58:00  ┆   ┆           ┆           ┆           ┆ à Limita │\n",
       "│           ┆           ┆           ┆           ┆   ┆           ┆           ┆           ┆ ção\"]    │\n",
       "│ 2023-11-0 ┆ matheusch ┆ 2023-11-1 ┆ 2023-11-1 ┆ … ┆ Manter    ┆ Praticar  ┆ Priorizar ┆ [\"◈◇◇◇◇  │\n",
       "│ 9T11:34:5 ┆ omem@hotm ┆ 0         ┆ 1         ┆   ┆           ┆           ┆           ┆ Leitura\" │\n",
       "│ 0.035Z    ┆ ail.com   ┆           ┆ 05:21:00  ┆   ┆           ┆           ┆           ┆ ]        │\n",
       "│ 2023-11-1 ┆ matheusch ┆ 2023-11-1 ┆ 2023-11-1 ┆ … ┆ Manter    ┆ Manter    ┆ Praticar  ┆ [\"◈◇◇◇◇  │\n",
       "│ 0T11:34:5 ┆ omem@hotm ┆ 1         ┆ 2         ┆   ┆           ┆           ┆           ┆ Leitura\" │\n",
       "│ 0.035Z    ┆ ail.com   ┆           ┆ 05:10:00  ┆   ┆           ┆           ┆           ┆ ]        │\n",
       "│ 2023-11-1 ┆ matheusch ┆ 2023-11-1 ┆ 2023-11-1 ┆ … ┆ Praticar  ┆ Manter    ┆ Praticar  ┆ [\"◈◇◇◇◇  │\n",
       "│ 1T11:34:5 ┆ omem@hotm ┆ 2         ┆ 3         ┆   ┆           ┆           ┆           ┆ Leitura\" │\n",
       "│ 0.035Z    ┆ ail.com   ┆           ┆ 05:01:00  ┆   ┆           ┆           ┆           ┆ ]        │\n",
       "└───────────┴───────────┴───────────┴───────────┴───┴───────────┴───────────┴───────────┴──────────┘"
      ]
     },
     "execution_count": 43,
     "metadata": {},
     "output_type": "execute_result"
    }
   ],
   "source": [
    "import polars as pl\n",
    "import datetime\n",
    "\n",
    "# Adaptacao do campo day_form_time para conter a data de day_date + 1, com o horario e os minutos de day_form_time\n",
    "df_transformed = df_cleaned.with_columns(\n",
    "\t[\n",
    "\t\t(pl.col(\"day_date\").cast(pl.Datetime) + pl.duration(days=1, hours=pl.col(\"day_form_time\").dt.hour(), minutes=pl.col(\"day_form_time\").dt.minute())).alias(\"day_form_time\"),\n",
    "\t\t(pl.col(\"day_date\").cast(pl.Datetime) + pl.duration(days=0, hours=pl.col(\"slp_fall\").dt.hour(),\t\t minutes=pl.col(\"slp_fall\").dt.minute())).alias(\"slp_fall\"),\n",
    "\t\t(pl.col(\"day_date\").cast(pl.Datetime) + pl.duration(days=1, hours=pl.col(\"slp_raise\").dt.hour(),\t minutes=pl.col(\"slp_raise\").dt.minute())).alias(\"slp_raise\")\n",
    "\t]\n",
    ")\n",
    "\n",
    "df_transformed.head(5)\n"
   ]
  },
  {
   "cell_type": "code",
   "execution_count": 36,
   "metadata": {},
   "outputs": [
    {
     "data": {
      "text/html": [
       "<div><style>\n",
       ".dataframe > thead > tr,\n",
       ".dataframe > tbody > tr {\n",
       "  text-align: right;\n",
       "  white-space: pre-wrap;\n",
       "}\n",
       "</style>\n",
       "<small>shape: (78, 1)</small><table border=\"1\" class=\"dataframe\"><thead><tr><th>day_form_time</th></tr><tr><td>i8</td></tr></thead><tbody><tr><td>7</td></tr><tr><td>6</td></tr><tr><td>5</td></tr><tr><td>5</td></tr><tr><td>5</td></tr><tr><td>9</td></tr><tr><td>4</td></tr><tr><td>5</td></tr><tr><td>5</td></tr><tr><td>7</td></tr><tr><td>5</td></tr><tr><td>6</td></tr><tr><td>&hellip;</td></tr><tr><td>5</td></tr><tr><td>20</td></tr><tr><td>5</td></tr><tr><td>5</td></tr><tr><td>5</td></tr><tr><td>5</td></tr><tr><td>5</td></tr><tr><td>5</td></tr><tr><td>6</td></tr><tr><td>4</td></tr><tr><td>5</td></tr><tr><td>5</td></tr></tbody></table></div>"
      ],
      "text/plain": [
       "shape: (78, 1)\n",
       "┌───────────────┐\n",
       "│ day_form_time │\n",
       "│ ---           │\n",
       "│ i8            │\n",
       "╞═══════════════╡\n",
       "│ 7             │\n",
       "│ 6             │\n",
       "│ 5             │\n",
       "│ 5             │\n",
       "│ …             │\n",
       "│ 6             │\n",
       "│ 4             │\n",
       "│ 5             │\n",
       "│ 5             │\n",
       "└───────────────┘"
      ]
     },
     "execution_count": 36,
     "metadata": {},
     "output_type": "execute_result"
    }
   ],
   "source": [
    "import datetime\n",
    "\n",
    "#df_transformed = df_cleaned.with_columns([\n",
    "#    pl.col(\"day_date\"),\n",
    "#    (pl.col(\"day_date\") + pl.col(\"day_form_time\") + pl.duration(days=1)).alias(\"day_form_time\"),\n",
    "#    (pl.col(\"day_date\") + pl.col(\"slp_fall\")).alias(\"slp_fall\"),\n",
    "#    (pl.col(\"day_date\") + pl.col(\"slp_raise\") + pl.duration(days=1)).alias(\"slp_raise\")\n",
    "#])\n",
    "\n",
    "#df_cleaned[[\"day_date\", \"day_form_time\", \"slp_fall\", \"slp_raise\"]]\n",
    "\n",
    "df_cleaned[\"day_date\"][0] \n",
    "df_cleaned[\"day_form_time\"][0].minute\n",
    "df_cleaned.select(pl.col(\"day_form_time\").dt.hour())"
   ]
  }
 ],
 "metadata": {
  "kernelspec": {
   "display_name": "Python 3",
   "language": "python",
   "name": "python3"
  },
  "language_info": {
   "codemirror_mode": {
    "name": "ipython",
    "version": 3
   },
   "file_extension": ".py",
   "mimetype": "text/x-python",
   "name": "python",
   "nbconvert_exporter": "python",
   "pygments_lexer": "ipython3",
   "version": "3.10.11"
  }
 },
 "nbformat": 4,
 "nbformat_minor": 2
}
