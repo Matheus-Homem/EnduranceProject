{
 "cells": [
  {
   "cell_type": "markdown",
   "metadata": {},
   "source": [
    "# Imports"
   ]
  },
  {
   "cell_type": "markdown",
   "metadata": {},
   "source": [
    "## Libraries"
   ]
  },
  {
   "cell_type": "code",
   "execution_count": 52,
   "metadata": {},
   "outputs": [],
   "source": [
    "from datetime import datetime, timedelta\n",
    "import polars as pl\n",
    "import json\n",
    "import sys\n",
    "import pandas as pd\n",
    "pl.Config(tbl_cols=15)\n",
    "pl.Config.set_tbl_column_data_type_inline(True)  \n",
    "pl.Config.set_tbl_hide_dataframe_shape(True)  \n",
    "pl.Config.set_tbl_hide_dtype_separator(True)  \n",
    "pd.set_option('display.max_colwidth', None)\n"
   ]
  },
  {
   "cell_type": "code",
   "execution_count": 2,
   "metadata": {},
   "outputs": [],
   "source": [
    "sys.path.append('..')\n",
    "from config.settings import Config"
   ]
  },
  {
   "cell_type": "markdown",
   "metadata": {},
   "source": [
    "## Configurations"
   ]
  },
  {
   "cell_type": "code",
   "execution_count": 3,
   "metadata": {},
   "outputs": [],
   "source": [
    "config = Config(\"dev\")"
   ]
  },
  {
   "cell_type": "markdown",
   "metadata": {},
   "source": [
    "## Data"
   ]
  },
  {
   "cell_type": "code",
   "execution_count": 22,
   "metadata": {},
   "outputs": [],
   "source": [
    "# PATHS\n",
    "morning_path = config.get_file(\"cleaned\", \"mrn_cleaned.parquet\")\n",
    "\n",
    "# DATA TABLES\n",
    "df_cleaned = pl.read_parquet(morning_path)\n"
   ]
  },
  {
   "cell_type": "code",
   "execution_count": 59,
   "metadata": {},
   "outputs": [
    {
     "data": {
      "text/html": [
       "<div><style>\n",
       ".dataframe > thead > tr,\n",
       ".dataframe > tbody > tr {\n",
       "  text-align: right;\n",
       "  white-space: pre-wrap;\n",
       "}\n",
       "</style>\n",
       "<table border=\"1\" class=\"dataframe\"><thead><tr><th>day_date</th><th>ttl_weight</th><th>ttl_diff</th><th>ttl_loss</th><th>mus_weight</th><th>mus_percentage</th><th>mus_diff</th><th>mus_loss</th><th>fat_weight</th><th>fat_percentage</th><th>fat_diff</th><th>fat_loss</th></tr><tr><td>bool</td><td>bool</td><td>bool</td><td>bool</td><td>bool</td><td>bool</td><td>bool</td><td>bool</td><td>bool</td><td>bool</td><td>bool</td><td>bool</td></tr></thead><tbody><tr><td>true</td><td>true</td><td>true</td><td>true</td><td>true</td><td>true</td><td>true</td><td>true</td><td>true</td><td>true</td><td>true</td><td>true</td></tr><tr><td>true</td><td>true</td><td>true</td><td>true</td><td>true</td><td>true</td><td>true</td><td>true</td><td>true</td><td>true</td><td>true</td><td>true</td></tr><tr><td>true</td><td>true</td><td>true</td><td>true</td><td>true</td><td>true</td><td>true</td><td>true</td><td>true</td><td>true</td><td>true</td><td>true</td></tr><tr><td>true</td><td>true</td><td>true</td><td>true</td><td>true</td><td>true</td><td>true</td><td>true</td><td>true</td><td>true</td><td>true</td><td>true</td></tr><tr><td>true</td><td>true</td><td>true</td><td>true</td><td>true</td><td>true</td><td>true</td><td>true</td><td>true</td><td>true</td><td>true</td><td>true</td></tr><tr><td>true</td><td>true</td><td>true</td><td>true</td><td>true</td><td>true</td><td>true</td><td>true</td><td>true</td><td>true</td><td>true</td><td>true</td></tr><tr><td>true</td><td>true</td><td>true</td><td>true</td><td>true</td><td>true</td><td>true</td><td>true</td><td>true</td><td>true</td><td>true</td><td>true</td></tr><tr><td>true</td><td>true</td><td>true</td><td>true</td><td>true</td><td>true</td><td>true</td><td>true</td><td>true</td><td>true</td><td>true</td><td>true</td></tr><tr><td>true</td><td>true</td><td>true</td><td>true</td><td>true</td><td>true</td><td>true</td><td>true</td><td>true</td><td>true</td><td>true</td><td>true</td></tr><tr><td>true</td><td>true</td><td>true</td><td>true</td><td>true</td><td>true</td><td>true</td><td>true</td><td>true</td><td>true</td><td>true</td><td>true</td></tr><tr><td>true</td><td>true</td><td>true</td><td>true</td><td>true</td><td>true</td><td>true</td><td>true</td><td>true</td><td>true</td><td>true</td><td>true</td></tr><tr><td>true</td><td>true</td><td>true</td><td>true</td><td>true</td><td>true</td><td>true</td><td>true</td><td>true</td><td>true</td><td>true</td><td>true</td></tr><tr><td>&hellip;</td><td>&hellip;</td><td>&hellip;</td><td>&hellip;</td><td>&hellip;</td><td>&hellip;</td><td>&hellip;</td><td>&hellip;</td><td>&hellip;</td><td>&hellip;</td><td>&hellip;</td><td>&hellip;</td></tr><tr><td>true</td><td>true</td><td>true</td><td>true</td><td>true</td><td>true</td><td>true</td><td>true</td><td>true</td><td>true</td><td>true</td><td>true</td></tr><tr><td>true</td><td>true</td><td>true</td><td>true</td><td>true</td><td>true</td><td>true</td><td>true</td><td>true</td><td>true</td><td>true</td><td>true</td></tr><tr><td>true</td><td>true</td><td>true</td><td>true</td><td>true</td><td>true</td><td>true</td><td>true</td><td>true</td><td>true</td><td>true</td><td>true</td></tr><tr><td>true</td><td>true</td><td>true</td><td>true</td><td>true</td><td>true</td><td>true</td><td>true</td><td>true</td><td>true</td><td>true</td><td>true</td></tr><tr><td>true</td><td>true</td><td>true</td><td>true</td><td>true</td><td>true</td><td>true</td><td>true</td><td>true</td><td>true</td><td>true</td><td>true</td></tr><tr><td>true</td><td>true</td><td>true</td><td>true</td><td>true</td><td>true</td><td>true</td><td>true</td><td>true</td><td>true</td><td>true</td><td>true</td></tr><tr><td>true</td><td>true</td><td>true</td><td>true</td><td>true</td><td>true</td><td>true</td><td>true</td><td>true</td><td>true</td><td>true</td><td>true</td></tr><tr><td>true</td><td>true</td><td>true</td><td>true</td><td>true</td><td>true</td><td>true</td><td>true</td><td>true</td><td>true</td><td>true</td><td>true</td></tr><tr><td>true</td><td>true</td><td>true</td><td>true</td><td>true</td><td>true</td><td>true</td><td>true</td><td>true</td><td>true</td><td>true</td><td>true</td></tr><tr><td>true</td><td>true</td><td>true</td><td>true</td><td>true</td><td>true</td><td>true</td><td>true</td><td>true</td><td>true</td><td>true</td><td>true</td></tr><tr><td>true</td><td>true</td><td>true</td><td>true</td><td>true</td><td>true</td><td>true</td><td>true</td><td>true</td><td>true</td><td>true</td><td>true</td></tr><tr><td>true</td><td>true</td><td>true</td><td>true</td><td>true</td><td>true</td><td>true</td><td>true</td><td>true</td><td>true</td><td>true</td><td>true</td></tr></tbody></table></div>"
      ],
      "text/plain": [
       "┌────────┬────────┬────────┬───────┬───────┬───────┬───────┬───────┬───────┬───────┬───────┬───────┐\n",
       "│ day_da ┆ ttl_we ┆ ttl_di ┆ ttl_l ┆ mus_w ┆ mus_p ┆ mus_d ┆ mus_l ┆ fat_w ┆ fat_p ┆ fat_d ┆ fat_l │\n",
       "│ te     ┆ ight   ┆ ff     ┆ oss   ┆ eight ┆ ercen ┆ iff   ┆ oss   ┆ eight ┆ ercen ┆ iff   ┆ oss   │\n",
       "│ (bool) ┆ (bool) ┆ (bool) ┆ (bool ┆ (bool ┆ tage  ┆ (bool ┆ (bool ┆ (bool ┆ tage  ┆ (bool ┆ (bool │\n",
       "│        ┆        ┆        ┆ )     ┆ )     ┆ (bool ┆ )     ┆ )     ┆ )     ┆ (bool ┆ )     ┆ )     │\n",
       "│        ┆        ┆        ┆       ┆       ┆ )     ┆       ┆       ┆       ┆ )     ┆       ┆       │\n",
       "╞════════╪════════╪════════╪═══════╪═══════╪═══════╪═══════╪═══════╪═══════╪═══════╪═══════╪═══════╡\n",
       "│ true   ┆ true   ┆ true   ┆ true  ┆ true  ┆ true  ┆ true  ┆ true  ┆ true  ┆ true  ┆ true  ┆ true  │\n",
       "│ true   ┆ true   ┆ true   ┆ true  ┆ true  ┆ true  ┆ true  ┆ true  ┆ true  ┆ true  ┆ true  ┆ true  │\n",
       "│ true   ┆ true   ┆ true   ┆ true  ┆ true  ┆ true  ┆ true  ┆ true  ┆ true  ┆ true  ┆ true  ┆ true  │\n",
       "│ true   ┆ true   ┆ true   ┆ true  ┆ true  ┆ true  ┆ true  ┆ true  ┆ true  ┆ true  ┆ true  ┆ true  │\n",
       "│ …      ┆ …      ┆ …      ┆ …     ┆ …     ┆ …     ┆ …     ┆ …     ┆ …     ┆ …     ┆ …     ┆ …     │\n",
       "│ true   ┆ true   ┆ true   ┆ true  ┆ true  ┆ true  ┆ true  ┆ true  ┆ true  ┆ true  ┆ true  ┆ true  │\n",
       "│ true   ┆ true   ┆ true   ┆ true  ┆ true  ┆ true  ┆ true  ┆ true  ┆ true  ┆ true  ┆ true  ┆ true  │\n",
       "│ true   ┆ true   ┆ true   ┆ true  ┆ true  ┆ true  ┆ true  ┆ true  ┆ true  ┆ true  ┆ true  ┆ true  │\n",
       "│ true   ┆ true   ┆ true   ┆ true  ┆ true  ┆ true  ┆ true  ┆ true  ┆ true  ┆ true  ┆ true  ┆ true  │\n",
       "└────────┴────────┴────────┴───────┴───────┴───────┴───────┴───────┴───────┴───────┴───────┴───────┘"
      ]
     },
     "execution_count": 59,
     "metadata": {},
     "output_type": "execute_result"
    }
   ],
   "source": [
    "wgt_list = [\"day_date\",\n",
    "\t\t\t\"ttl_weight\",\n",
    "\t\t\t\"ttl_diff\",\n",
    "\t\t\t\"ttl_loss\",\n",
    "\t\t\t\"mus_weight\",\n",
    "\t\t\t\"mus_percentage\",\n",
    "\t\t\t\"mus_diff\",\n",
    "\t\t\t\"mus_loss\",\n",
    "\t\t\t\"fat_weight\",\n",
    "\t\t\t\"fat_percentage\",\n",
    "\t\t\t\"fat_diff\",\n",
    "\t\t\t\"fat_loss\",]\n",
    "\n",
    "df_cleaned2 = df_cleaned\\\n",
    "\t.with_columns(\n",
    "\t\t(pl.col(\"fat_percentage\") / 100).alias(\"fat_percentage\"),\n",
    "\t\t(pl.col(\"mus_weight\") / pl.col(\"ttl_weight\")).round(3).alias(\"mus_percentage\"),\n",
    "\t\t(pl.col(\"ttl_weight\") * pl.col(\"fat_percentage\") / 100).round(2).alias(\"fat_weight\"),\n",
    "\t)\\\n",
    "\t.with_columns(\n",
    "\t\t(pl.col(\"ttl_weight\") - pl.col(\"ttl_weight\").shift(1)).fill_null(0.0).alias(\"ttl_diff\"),\n",
    "\t\t(pl.col(\"mus_weight\") - pl.col(\"mus_weight\").shift(1)).fill_null(0.0).alias(\"mus_diff\"),\n",
    "\t\t(pl.col(\"fat_weight\") - pl.col(\"fat_weight\").shift(1)).fill_null(0.0).alias(\"fat_diff\"),\n",
    "\t)\\\n",
    "\t.with_columns(\n",
    "\t\t(pl.when(pl.col(\"ttl_diff\") < 0).then(True).otherwise(False)).alias(\"ttl_loss\"),\n",
    "\t\t(pl.when(pl.col(\"mus_diff\") < 0).then(True).otherwise(False)).alias(\"mus_loss\"),\n",
    "\t\t(pl.when(pl.col(\"fat_diff\") < 0).then(True).otherwise(False)).alias(\"fat_loss\"),\n",
    "\t)\n",
    "\n",
    "df_cleaned3 = df_cleaned\\\n",
    "\t.with_columns(\n",
    "\t\t(pl.col(\"fat_percentage\") / 100).alias(\"fat_percentage\"),\n",
    "\t\t(pl.col(\"mus_weight\") / pl.col(\"ttl_weight\")).round(3).alias(\"mus_percentage\"),\n",
    "\t\t(pl.col(\"ttl_weight\") * pl.col(\"fat_percentage\") / 100).round(2).alias(\"fat_weight\"),\n",
    "\t)\\\n",
    "\t.with_columns([\n",
    "\t\t(pl.col(f\"{x}_weight\") - pl.col(f\"{x}_weight\").shift(1)).fill_null(0.0).alias(f\"{x}_diff\")\n",
    "\t\tfor x in [\"ttl\", \"mus\", \"fat\"]\n",
    "\t])\\\n",
    "\t.with_columns([\n",
    "\t\t(pl.when(pl.col(f\"{x}_diff\") < 0).then(True).otherwise(False)).alias(f\"{x}_loss\")\n",
    "\t\tfor x in [\"ttl\", \"mus\", \"fat\"]\n",
    "\t])\n",
    "\n",
    "#\t\t\tself.dtype_exp = [\n",
    "#\t\t\t\tpl.col(column_config[\"name\"]).cast(self.pl_dtype_dict[column_config[\"dtype\"]])\n",
    "#\t\t\t\tfor column_name, column_config in self.rename_columns_dict[table_id].items()\n",
    "#\t\t\t]\n",
    "\n",
    "# Exibir o DataFrame resultante\n",
    "#display(df_cleaned3.select(wgt_list))\n",
    "\n",
    "df_cleaned3.select(wgt_list) == df_cleaned2.select(wgt_list)\n"
   ]
  },
  {
   "cell_type": "code",
   "execution_count": 43,
   "metadata": {},
   "outputs": [
    {
     "data": {
      "text/html": [
       "<div><style>\n",
       ".dataframe > thead > tr,\n",
       ".dataframe > tbody > tr {\n",
       "  text-align: right;\n",
       "  white-space: pre-wrap;\n",
       "}\n",
       "</style>\n",
       "<small>shape: (5, 24)</small><table border=\"1\" class=\"dataframe\"><thead><tr><th>timestamp</th><th>email_confirmation</th><th>day_date</th><th>day_form_time</th><th>day_humor</th><th>pho_time</th><th>slp_fall</th><th>slp_raise</th><th>slp_duration</th><th>slp_awake</th><th>slp_rem</th><th>slp_light</th><th>slp_deep</th><th>wgt_total</th><th>wgt_muscle</th><th>wgt_bf</th><th>wgt_rmr</th><th>wgt_cal</th><th>grn_priority</th><th>red_priority</th><th>blu_priority</th><th>ylw_priority</th><th>prp_priority</th><th>day_priority</th></tr><tr><td>str</td><td>str</td><td>date</td><td>datetime[μs]</td><td>str</td><td>duration[μs]</td><td>datetime[μs]</td><td>datetime[μs]</td><td>duration[μs]</td><td>f64</td><td>f64</td><td>f64</td><td>f64</td><td>f64</td><td>f64</td><td>f64</td><td>i64</td><td>i64</td><td>str</td><td>str</td><td>str</td><td>str</td><td>str</td><td>list[str]</td></tr></thead><tbody><tr><td>&quot;2023-11-08T11:…</td><td>&quot;matheuschomem@…</td><td>2023-11-09</td><td>2023-11-10 07:42:00</td><td>&quot;Sol&quot;</td><td>null</td><td>2023-11-09 20:58:00</td><td>2023-11-10 04:50:00</td><td>7h 52m</td><td>1.0</td><td>11.5</td><td>75.0</td><td>11.5</td><td>73.05</td><td>55.95</td><td>19.3</td><td>1598</td><td>897</td><td>&quot;Priorizar&quot;</td><td>&quot;Praticar&quot;</td><td>&quot;Manter&quot;</td><td>&quot;Manter&quot;</td><td>&quot;Praticar&quot;</td><td>[&quot;◈◇◇◇◇ Leitura&quot;]</td></tr><tr><td>&quot;2023-11-08T11:…</td><td>&quot;matheuschomem@…</td><td>2023-11-08</td><td>2023-11-09 06:58:00</td><td>&quot;Lua&quot;</td><td>null</td><td>2023-11-08 20:55:00</td><td>2023-11-09 04:50:00</td><td>7h 55m</td><td>0.0</td><td>17.0</td><td>65.0</td><td>17.0</td><td>73.6</td><td>56.22</td><td>19.5</td><td>1604</td><td>541</td><td>&quot;Praticar&quot;</td><td>&quot;Priorizar&quot;</td><td>&quot;Praticar&quot;</td><td>&quot;Manter&quot;</td><td>&quot;Manter&quot;</td><td>[&quot;◇◈◇◇◇ Atenção à Limitação&quot;]</td></tr><tr><td>&quot;2023-11-09T11:…</td><td>&quot;matheuschomem@…</td><td>2023-11-10</td><td>2023-11-11 05:21:00</td><td>&quot;Sol&quot;</td><td>null</td><td>2023-11-10 21:39:00</td><td>2023-11-11 05:05:00</td><td>7h 26m</td><td>1.0</td><td>14.5</td><td>69.0</td><td>14.5</td><td>73.5</td><td>56.2</td><td>19.4</td><td>1603</td><td>609</td><td>&quot;Praticar&quot;</td><td>&quot;Manter&quot;</td><td>&quot;Manter&quot;</td><td>&quot;Praticar&quot;</td><td>&quot;Priorizar&quot;</td><td>[&quot;◈◇◇◇◇ Leitura&quot;]</td></tr><tr><td>&quot;2023-11-10T11:…</td><td>&quot;matheuschomem@…</td><td>2023-11-11</td><td>2023-11-12 05:10:00</td><td>&quot;Sol&quot;</td><td>null</td><td>2023-11-11 20:47:00</td><td>2023-11-12 05:03:00</td><td>8h 16m</td><td>1.0</td><td>16.0</td><td>66.0</td><td>16.0</td><td>73.5</td><td>56.2</td><td>19.4</td><td>1603</td><td>829</td><td>&quot;Priorizar&quot;</td><td>&quot;Praticar&quot;</td><td>&quot;Manter&quot;</td><td>&quot;Manter&quot;</td><td>&quot;Praticar&quot;</td><td>[&quot;◈◇◇◇◇ Leitura&quot;]</td></tr><tr><td>&quot;2023-11-11T11:…</td><td>&quot;matheuschomem@…</td><td>2023-11-12</td><td>2023-11-13 05:01:00</td><td>&quot;Sol&quot;</td><td>null</td><td>2023-11-12 21:37:00</td><td>2023-11-13 04:52:00</td><td>7h 15m</td><td>0.0</td><td>19.0</td><td>61.0</td><td>19.0</td><td>72.9</td><td>55.9</td><td>19.2</td><td>1594</td><td>1081</td><td>&quot;Priorizar&quot;</td><td>&quot;Manter&quot;</td><td>&quot;Praticar&quot;</td><td>&quot;Manter&quot;</td><td>&quot;Praticar&quot;</td><td>[&quot;◈◇◇◇◇ Leitura&quot;]</td></tr></tbody></table></div>"
      ],
      "text/plain": [
       "shape: (5, 24)\n",
       "┌───────────┬───────────┬───────────┬───────────┬───┬───────────┬───────────┬───────────┬──────────┐\n",
       "│ timestamp ┆ email_con ┆ day_date  ┆ day_form_ ┆ … ┆ blu_prior ┆ ylw_prior ┆ prp_prior ┆ day_prio │\n",
       "│ ---       ┆ firmation ┆ ---       ┆ time      ┆   ┆ ity       ┆ ity       ┆ ity       ┆ rity     │\n",
       "│ str       ┆ ---       ┆ date      ┆ ---       ┆   ┆ ---       ┆ ---       ┆ ---       ┆ ---      │\n",
       "│           ┆ str       ┆           ┆ datetime[ ┆   ┆ str       ┆ str       ┆ str       ┆ list[str │\n",
       "│           ┆           ┆           ┆ μs]       ┆   ┆           ┆           ┆           ┆ ]        │\n",
       "╞═══════════╪═══════════╪═══════════╪═══════════╪═══╪═══════════╪═══════════╪═══════════╪══════════╡\n",
       "│ 2023-11-0 ┆ matheusch ┆ 2023-11-0 ┆ 2023-11-1 ┆ … ┆ Manter    ┆ Manter    ┆ Praticar  ┆ [\"◈◇◇◇◇  │\n",
       "│ 8T11:34:5 ┆ omem@hotm ┆ 9         ┆ 0         ┆   ┆           ┆           ┆           ┆ Leitura\" │\n",
       "│ 0.035Z    ┆ ail.com   ┆           ┆ 07:42:00  ┆   ┆           ┆           ┆           ┆ ]        │\n",
       "│ 2023-11-0 ┆ matheusch ┆ 2023-11-0 ┆ 2023-11-0 ┆ … ┆ Praticar  ┆ Manter    ┆ Manter    ┆ [\"◇◈◇◇◇  │\n",
       "│ 8T11:34:5 ┆ omem@hotm ┆ 8         ┆ 9         ┆   ┆           ┆           ┆           ┆ Atenção  │\n",
       "│ 0.035Z    ┆ ail.com   ┆           ┆ 06:58:00  ┆   ┆           ┆           ┆           ┆ à Limita │\n",
       "│           ┆           ┆           ┆           ┆   ┆           ┆           ┆           ┆ ção\"]    │\n",
       "│ 2023-11-0 ┆ matheusch ┆ 2023-11-1 ┆ 2023-11-1 ┆ … ┆ Manter    ┆ Praticar  ┆ Priorizar ┆ [\"◈◇◇◇◇  │\n",
       "│ 9T11:34:5 ┆ omem@hotm ┆ 0         ┆ 1         ┆   ┆           ┆           ┆           ┆ Leitura\" │\n",
       "│ 0.035Z    ┆ ail.com   ┆           ┆ 05:21:00  ┆   ┆           ┆           ┆           ┆ ]        │\n",
       "│ 2023-11-1 ┆ matheusch ┆ 2023-11-1 ┆ 2023-11-1 ┆ … ┆ Manter    ┆ Manter    ┆ Praticar  ┆ [\"◈◇◇◇◇  │\n",
       "│ 0T11:34:5 ┆ omem@hotm ┆ 1         ┆ 2         ┆   ┆           ┆           ┆           ┆ Leitura\" │\n",
       "│ 0.035Z    ┆ ail.com   ┆           ┆ 05:10:00  ┆   ┆           ┆           ┆           ┆ ]        │\n",
       "│ 2023-11-1 ┆ matheusch ┆ 2023-11-1 ┆ 2023-11-1 ┆ … ┆ Praticar  ┆ Manter    ┆ Praticar  ┆ [\"◈◇◇◇◇  │\n",
       "│ 1T11:34:5 ┆ omem@hotm ┆ 2         ┆ 3         ┆   ┆           ┆           ┆           ┆ Leitura\" │\n",
       "│ 0.035Z    ┆ ail.com   ┆           ┆ 05:01:00  ┆   ┆           ┆           ┆           ┆ ]        │\n",
       "└───────────┴───────────┴───────────┴───────────┴───┴───────────┴───────────┴───────────┴──────────┘"
      ]
     },
     "execution_count": 43,
     "metadata": {},
     "output_type": "execute_result"
    }
   ],
   "source": [
    "import polars as pl\n",
    "import datetime\n",
    "\n",
    "# Adaptacao do campo day_form_time para conter a data de day_date + 1, com o horario e os minutos de day_form_time\n",
    "df_transformed = df_cleaned.with_columns(\n",
    "\t[\n",
    "\t\t(pl.col(\"day_date\").cast(pl.Datetime) + pl.duration(days=1, hours=pl.col(\"day_form_time\").dt.hour(), minutes=pl.col(\"day_form_time\").dt.minute())).alias(\"day_form_time\"),\n",
    "\t\t(pl.col(\"day_date\").cast(pl.Datetime) + pl.duration(days=0, hours=pl.col(\"slp_fall\").dt.hour(),\t\t minutes=pl.col(\"slp_fall\").dt.minute())).alias(\"slp_fall\"),\n",
    "\t\t(pl.col(\"day_date\").cast(pl.Datetime) + pl.duration(days=1, hours=pl.col(\"slp_raise\").dt.hour(),\t minutes=pl.col(\"slp_raise\").dt.minute())).alias(\"slp_raise\")\n",
    "\t]\n",
    ")\n",
    "\n",
    "df_transformed.head(5)\n"
   ]
  },
  {
   "cell_type": "code",
   "execution_count": 36,
   "metadata": {},
   "outputs": [
    {
     "data": {
      "text/html": [
       "<div><style>\n",
       ".dataframe > thead > tr,\n",
       ".dataframe > tbody > tr {\n",
       "  text-align: right;\n",
       "  white-space: pre-wrap;\n",
       "}\n",
       "</style>\n",
       "<small>shape: (78, 1)</small><table border=\"1\" class=\"dataframe\"><thead><tr><th>day_form_time</th></tr><tr><td>i8</td></tr></thead><tbody><tr><td>7</td></tr><tr><td>6</td></tr><tr><td>5</td></tr><tr><td>5</td></tr><tr><td>5</td></tr><tr><td>9</td></tr><tr><td>4</td></tr><tr><td>5</td></tr><tr><td>5</td></tr><tr><td>7</td></tr><tr><td>5</td></tr><tr><td>6</td></tr><tr><td>&hellip;</td></tr><tr><td>5</td></tr><tr><td>20</td></tr><tr><td>5</td></tr><tr><td>5</td></tr><tr><td>5</td></tr><tr><td>5</td></tr><tr><td>5</td></tr><tr><td>5</td></tr><tr><td>6</td></tr><tr><td>4</td></tr><tr><td>5</td></tr><tr><td>5</td></tr></tbody></table></div>"
      ],
      "text/plain": [
       "shape: (78, 1)\n",
       "┌───────────────┐\n",
       "│ day_form_time │\n",
       "│ ---           │\n",
       "│ i8            │\n",
       "╞═══════════════╡\n",
       "│ 7             │\n",
       "│ 6             │\n",
       "│ 5             │\n",
       "│ 5             │\n",
       "│ …             │\n",
       "│ 6             │\n",
       "│ 4             │\n",
       "│ 5             │\n",
       "│ 5             │\n",
       "└───────────────┘"
      ]
     },
     "execution_count": 36,
     "metadata": {},
     "output_type": "execute_result"
    }
   ],
   "source": [
    "import datetime\n",
    "\n",
    "#df_transformed = df_cleaned.with_columns([\n",
    "#    pl.col(\"day_date\"),\n",
    "#    (pl.col(\"day_date\") + pl.col(\"day_form_time\") + pl.duration(days=1)).alias(\"day_form_time\"),\n",
    "#    (pl.col(\"day_date\") + pl.col(\"slp_fall\")).alias(\"slp_fall\"),\n",
    "#    (pl.col(\"day_date\") + pl.col(\"slp_raise\") + pl.duration(days=1)).alias(\"slp_raise\")\n",
    "#])\n",
    "\n",
    "#df_cleaned[[\"day_date\", \"day_form_time\", \"slp_fall\", \"slp_raise\"]]\n",
    "\n",
    "df_cleaned[\"day_date\"][0] \n",
    "df_cleaned[\"day_form_time\"][0].minute\n",
    "df_cleaned.select(pl.col(\"day_form_time\").dt.hour())"
   ]
  }
 ],
 "metadata": {
  "kernelspec": {
   "display_name": "Python 3",
   "language": "python",
   "name": "python3"
  },
  "language_info": {
   "codemirror_mode": {
    "name": "ipython",
    "version": 3
   },
   "file_extension": ".py",
   "mimetype": "text/x-python",
   "name": "python",
   "nbconvert_exporter": "python",
   "pygments_lexer": "ipython3",
   "version": "3.10.11"
  }
 },
 "nbformat": 4,
 "nbformat_minor": 2
}
