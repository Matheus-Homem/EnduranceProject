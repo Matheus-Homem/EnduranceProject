{
 "cells": [
  {
   "cell_type": "markdown",
   "metadata": {
    "id": "uyjdtXzjXmZ3"
   },
   "source": [
    "# Objetivo do MVP_002:\n",
    "\n",
    "- **[✕]** Construir um arquivo pdf com os memos e notas do dia anterior;\n",
    "- **[✕]** Enviar arquivo pdf por e-mail;\n",
    "- **[✓]** Implementar secret da senha do e-mail; \n"
   ]
  },
  {
   "cell_type": "markdown",
   "metadata": {
    "id": "QbOtPoxtXl5N"
   },
   "source": [
    "# Importações"
   ]
  },
  {
   "cell_type": "markdown",
   "metadata": {
    "id": "TsHEL9MLZGgu"
   },
   "source": [
    "## Bibliotecas"
   ]
  },
  {
   "cell_type": "code",
   "execution_count": null,
   "metadata": {
    "colab": {
     "base_uri": "https://localhost:8080/"
    },
    "id": "djBnwD3CzjhI",
    "outputId": "f4cb2c89-81af-43b6-f777-6008c8e91202"
   },
   "outputs": [],
   "source": [
    "#!pip install --upgrade pdf_reports\n",
    "#!pip install reportlab\n",
    "#!pip install python-dotenv"
   ]
  },
  {
   "cell_type": "code",
   "execution_count": 6,
   "metadata": {
    "id": "CSk9x-p5Yoda"
   },
   "outputs": [],
   "source": [
    "import os\n",
    "\n",
    "import pandas as pd\n",
    "import numpy as np\n",
    "\n",
    "from reportlab.pdfgen import canvas\n",
    "from dotenv import load_dotenv\n",
    "\n",
    "import smtplib\n",
    "from email.mime.text import MIMEText\n",
    "from email.mime.multipart import MIMEMultipart\n",
    "from email.mime.application import MIMEApplication"
   ]
  },
  {
   "cell_type": "markdown",
   "metadata": {
    "id": "GCoZqVnzhuyR"
   },
   "source": [
    "## Configurações do Servidor SMTP"
   ]
  },
  {
   "cell_type": "code",
   "execution_count": 13,
   "metadata": {
    "id": "NDhSwZ0ih4Ls"
   },
   "outputs": [],
   "source": [
    "# Carregando secrets definidos pelo arquivo .env\n",
    "load_dotenv()\n",
    "\n",
    "# Configurações do servidor SMTP do Gmail\n",
    "smtp_server = \"smtp.gmail.com\"\n",
    "smtp_port = 587\n",
    "smtp_user = 'pleasecallmekindness@gmail.com'\n",
    "smtp_password = os.getenv(\"EMAIL_PASSWORD\")\n",
    "\n",
    "# Definição de um dicionário contendo as configuções SMTP\n",
    "smtp_config = {\"server\": smtp_server,\n",
    "               \"port\": smtp_port,\n",
    "               \"user\": smtp_user,\n",
    "               \"password\": smtp_password}\n",
    "\n",
    "# Destinatário\n",
    "destinatario = 'matheuschomem@hotmail.com'"
   ]
  },
  {
   "cell_type": "code",
   "execution_count": 14,
   "metadata": {},
   "outputs": [
    {
     "name": "stdout",
     "output_type": "stream",
     "text": [
      "geul vxzi bdib bwdw\n"
     ]
    }
   ],
   "source": [
    "print(smtp_password)"
   ]
  },
  {
   "cell_type": "markdown",
   "metadata": {
    "id": "AWm7Dr54ZFzB"
   },
   "source": [
    "## Arquivos"
   ]
  },
  {
   "cell_type": "code",
   "execution_count": 1,
   "metadata": {
    "id": "G1XahF2YV2rO"
   },
   "outputs": [],
   "source": [
    "# Definição do caminho dos dataframes\n",
    "morning_path = \"/content/morning_routine_v2.xlsx\"\n",
    "night_path = \"/content/night_routine_v2.xlsx\""
   ]
  },
  {
   "cell_type": "code",
   "execution_count": 28,
   "metadata": {
    "id": "RNHp0GZuZiCa"
   },
   "outputs": [],
   "source": [
    "# Criação dos dataframes diurno e noturno a partir dos caminhos definidos\n",
    "sun_df = pd.read_excel(morning_path)\n",
    "moon_df = pd.read_excel(night_path)"
   ]
  },
  {
   "cell_type": "markdown",
   "metadata": {
    "id": "GpGZ4zm8tqyb"
   },
   "source": [
    "# Funções"
   ]
  },
  {
   "cell_type": "markdown",
   "metadata": {
    "id": "1wWT40iytwHj"
   },
   "source": [
    "### send_email\n",
    "\n",
    "\n",
    "\n"
   ]
  },
  {
   "cell_type": "markdown",
   "metadata": {
    "id": "1Ov4YkPcwu-J"
   },
   "source": [
    "> Função criada que tem como resultado o envio do e-mail do remetende estabilecido para o destinatário estabelecido. Tem como parâmetros:\n",
    "- `smtp_config`: Dicionário definido com o remetente e as variáveis necessárias para realizar o login para o envio do e-mail. Segue a correspondencia de chave-valor:\n",
    "    - `server`: Servidor da bilioteca (`smtp.gmail.com`);\n",
    "    - `port`: Número da porta (`587`);\n",
    "    - `user`: E-mail do remetente, utilizado para o login;\n",
    "    - `password`: Senha do e-mail do remetente, utilizado para o login;\n",
    "- `destinatario`: E-mail do destinatário\n",
    "- `assunto`: Assunto do e-mail;\n",
    "- `corpo_email`: Informações do corpo do e-mail, são passadas para o `MIMEText` na execução da função;\n",
    "- `anexo_nome`: Por default, considerada como None. Caso haja anexo, é inserido através desse parâmetro."
   ]
  },
  {
   "cell_type": "code",
   "execution_count": null,
   "metadata": {
    "id": "u_35qmP7uQKe"
   },
   "outputs": [],
   "source": [
    "def send_email(smtp_config, destinatario, assunto:str, corpo_email, anexo_nome=None):\n",
    "    # Passando informações da lista parametrizada\n",
    "    smtp_server = smtp_config[\"server\"]\n",
    "    smtp_port = smtp_config[\"port\"]\n",
    "    smtp_user = smtp_config[\"user\"]\n",
    "    smtp_password = smtp_config[\"password\"]\n",
    "    remetente = smtp_config[\"user\"]\n",
    "\n",
    "    # Construa a mensagem\n",
    "    mensagem = MIMEMultipart()\n",
    "    mensagem['From'] = remetente\n",
    "    mensagem['To'] = destinatario\n",
    "    mensagem['Subject'] = assunto\n",
    "\n",
    "    # Adicione o corpo do e-mail\n",
    "    mensagem.attach(MIMEText(corpo_email, 'plain'))\n",
    "\n",
    "    # Adicione anexo, se fornecido\n",
    "    if anexo_nome:\n",
    "        with open(anexo_nome, 'rb') as arquivo:\n",
    "            anexo = MIMEText(arquivo.read())\n",
    "            anexo['Content-Disposition'] = f'attachment; filename={anexo_nome}'\n",
    "            mensagem.attach(anexo)\n",
    "\n",
    "    # Conecte-se ao servidor SMTP e envie o e-mail\n",
    "    with smtplib.SMTP(smtp_server, smtp_port) as server:\n",
    "        server.starttls()\n",
    "        server.login(smtp_user, smtp_password)\n",
    "        server.sendmail(remetente, destinatario, mensagem.as_string())\n",
    "\n",
    "    print('E-mail enviado com sucesso!')"
   ]
  },
  {
   "cell_type": "markdown",
   "metadata": {
    "id": "lYTZIiPHZD4e"
   },
   "source": [
    "# Tratamento de Dados"
   ]
  },
  {
   "cell_type": "markdown",
   "metadata": {
    "id": "--wqvImogx6r"
   },
   "source": [
    "## Renomeação de Campos"
   ]
  },
  {
   "cell_type": "code",
   "execution_count": 30,
   "metadata": {
    "id": "wX9nFAUnZBAG"
   },
   "outputs": [],
   "source": [
    "# Definição do dicionário com os novos nomes dos campos\n",
    "map_columns = {\n",
    "    moon_df.columns[9]: \"wis_memo\",\n",
    "    moon_df.columns[20]: \"con_memo\",\n",
    "    moon_df.columns[40]: \"str_memo\",\n",
    "    moon_df.columns[53]: \"cha_memo\",\n",
    "    moon_df.columns[57]: \"fth_memo\"\n",
    "}\n",
    "\n",
    "# Aplicação do dicionário, renomeado os campos selecionados\n",
    "moon_df.rename(columns=map_columns, inplace=True)"
   ]
  },
  {
   "cell_type": "markdown",
   "metadata": {
    "id": "SAOxDQ4_a7ET"
   },
   "source": [
    "# Carregamento e Envio"
   ]
  },
  {
   "cell_type": "markdown",
   "metadata": {
    "id": "3C4x0739imNe"
   },
   "source": [
    "## Construção do E-mail"
   ]
  },
  {
   "cell_type": "code",
   "execution_count": 62,
   "metadata": {
    "colab": {
     "base_uri": "https://localhost:8080/"
    },
    "id": "m9euDPyIjBWb",
    "outputId": "718bd98d-c38d-4132-f9bf-3043fc0bd97a"
   },
   "outputs": [
    {
     "name": "stdout",
     "output_type": "stream",
     "text": [
      "E-mail enviado com sucesso!\n"
     ]
    }
   ],
   "source": [
    "# Exemplo de uso da função\n",
    "\"\"\"\n",
    "send_email(smtp_config=smtp_config,\n",
    "           destinatario='matheuschomem@hotmail.com',\n",
    "           assunto='Resultado do Script Python',\n",
    "           corpo_email='teste')\n",
    "\"\"\""
   ]
  },
  {
   "cell_type": "code",
   "execution_count": 74,
   "metadata": {
    "colab": {
     "base_uri": "https://localhost:8080/",
     "height": 507
    },
    "id": "epoh7sZTzWHx",
    "outputId": "ceb4a70f-b0d2-4ced-c9ed-6be449a5857a"
   },
   "outputs": [
    {
     "name": "stderr",
     "output_type": "stream",
     "text": [
      "WARNING:weasyprint:Ignored `background-color: lighten(--primary-color, 33%)` at 32:3, invalid value.\n",
      "ERROR:weasyprint:Relative URI reference without a base URI: <img src=\"/content/grafico.png\">\n"
     ]
    },
    {
     "data": {
      "application/javascript": [
       "\n",
       "    async function download(id, filename, size) {\n",
       "      if (!google.colab.kernel.accessAllowed) {\n",
       "        return;\n",
       "      }\n",
       "      const div = document.createElement('div');\n",
       "      const label = document.createElement('label');\n",
       "      label.textContent = `Downloading \"${filename}\": `;\n",
       "      div.appendChild(label);\n",
       "      const progress = document.createElement('progress');\n",
       "      progress.max = size;\n",
       "      div.appendChild(progress);\n",
       "      document.body.appendChild(div);\n",
       "\n",
       "      const buffers = [];\n",
       "      let downloaded = 0;\n",
       "\n",
       "      const channel = await google.colab.kernel.comms.open(id);\n",
       "      // Send a message to notify the kernel that we're ready.\n",
       "      channel.send({})\n",
       "\n",
       "      for await (const message of channel.messages) {\n",
       "        // Send a message to notify the kernel that we're ready.\n",
       "        channel.send({})\n",
       "        if (message.buffers) {\n",
       "          for (const buffer of message.buffers) {\n",
       "            buffers.push(buffer);\n",
       "            downloaded += buffer.byteLength;\n",
       "            progress.value = downloaded;\n",
       "          }\n",
       "        }\n",
       "      }\n",
       "      const blob = new Blob(buffers, {type: 'application/binary'});\n",
       "      const a = document.createElement('a');\n",
       "      a.href = window.URL.createObjectURL(blob);\n",
       "      a.download = filename;\n",
       "      div.appendChild(a);\n",
       "      a.click();\n",
       "      div.remove();\n",
       "    }\n",
       "  "
      ],
      "text/plain": [
       "<IPython.core.display.Javascript object>"
      ]
     },
     "metadata": {},
     "output_type": "display_data"
    },
    {
     "data": {
      "application/javascript": [
       "download(\"download_605e33d0-d963-4daf-a3d3-128e2079b9fd\", \"relatorio_pdf_reports2.pdf\", 9024)"
      ],
      "text/plain": [
       "<IPython.core.display.Javascript object>"
      ]
     },
     "metadata": {},
     "output_type": "display_data"
    },
    {
     "data": {
      "image/png": "[encoded data removed]",
      "text/plain": [
       "<Figure size 640x480 with 1 Axes>"
      ]
     },
     "metadata": {},
     "output_type": "display_data"
    }
   ],
   "source": [
    "from pdf_reports import write_report\n",
    "\n",
    "# Dados do gráfico (exemplo)\n",
    "import matplotlib.pyplot as plt\n",
    "plt.plot([1, 2, 3, 4, 5])\n",
    "plt.title('Exemplo de Gráfico')\n",
    "plt.xlabel('Eixo X')\n",
    "plt.ylabel('Eixo Y')\n",
    "plt.savefig('./grafico.png')\n",
    "\n",
    "template = \"\"\"\n",
    "<!DOCTYPE html>\n",
    "<html>\n",
    "<head>\n",
    "    <title>Relatório em PDF</title>\n",
    "</head>\n",
    "<body>\n",
    "    <h1>Relatório em PDF</h1>\n",
    "    <p>Este é um exemplo de relatório em PDF com texto e gráfico.</p>\n",
    "    <img src='./grafico.png' width='80%'>\n",
    "</body>\n",
    "</html>\n",
    "\"\"\"\n",
    "\n",
    "# Gera o relatório em PDF\n",
    "write_report(template, '/content/relatorio_pdf_reports2.pdf')\n",
    "\n",
    "from google.colab import files\n",
    "files.download('/content/relatorio_pdf_reports2.pdf')"
   ]
  },
  {
   "cell_type": "code",
   "execution_count": 75,
   "metadata": {
    "colab": {
     "base_uri": "https://localhost:8080/",
     "height": 472
    },
    "id": "67oCa_DM1zpP",
    "outputId": "98cdb895-d6bb-462e-bcdb-c55ceb13a093"
   },
   "outputs": [
    {
     "data": {
      "application/javascript": [
       "\n",
       "    async function download(id, filename, size) {\n",
       "      if (!google.colab.kernel.accessAllowed) {\n",
       "        return;\n",
       "      }\n",
       "      const div = document.createElement('div');\n",
       "      const label = document.createElement('label');\n",
       "      label.textContent = `Downloading \"${filename}\": `;\n",
       "      div.appendChild(label);\n",
       "      const progress = document.createElement('progress');\n",
       "      progress.max = size;\n",
       "      div.appendChild(progress);\n",
       "      document.body.appendChild(div);\n",
       "\n",
       "      const buffers = [];\n",
       "      let downloaded = 0;\n",
       "\n",
       "      const channel = await google.colab.kernel.comms.open(id);\n",
       "      // Send a message to notify the kernel that we're ready.\n",
       "      channel.send({})\n",
       "\n",
       "      for await (const message of channel.messages) {\n",
       "        // Send a message to notify the kernel that we're ready.\n",
       "        channel.send({})\n",
       "        if (message.buffers) {\n",
       "          for (const buffer of message.buffers) {\n",
       "            buffers.push(buffer);\n",
       "            downloaded += buffer.byteLength;\n",
       "            progress.value = downloaded;\n",
       "          }\n",
       "        }\n",
       "      }\n",
       "      const blob = new Blob(buffers, {type: 'application/binary'});\n",
       "      const a = document.createElement('a');\n",
       "      a.href = window.URL.createObjectURL(blob);\n",
       "      a.download = filename;\n",
       "      div.appendChild(a);\n",
       "      a.click();\n",
       "      div.remove();\n",
       "    }\n",
       "  "
      ],
      "text/plain": [
       "<IPython.core.display.Javascript object>"
      ]
     },
     "metadata": {},
     "output_type": "display_data"
    },
    {
     "data": {
      "application/javascript": [
       "download(\"download_c876b696-bc66-4f81-aa93-4eccd383295d\", \"relatorio_pdf_reports3.pdf\", 22315)"
      ],
      "text/plain": [
       "<IPython.core.display.Javascript object>"
      ]
     },
     "metadata": {},
     "output_type": "display_data"
    },
    {
     "data": {
      "image/png": "[encoded data removed]",
      "text/plain": [
       "<Figure size 640x480 with 1 Axes>"
      ]
     },
     "metadata": {},
     "output_type": "display_data"
    }
   ],
   "source": [
    "from reportlab.lib.pagesizes import letter\n",
    "from reportlab.pdfgen import canvas\n",
    "import matplotlib.pyplot as plt\n",
    "\n",
    "# Dados do gráfico (exemplo)\n",
    "x = [1, 2, 3, 4, 5]\n",
    "y = [2, 4, 6, 8, 10]\n",
    "\n",
    "plt.plot(x, y)\n",
    "plt.title('Exemplo de Gráfico')\n",
    "plt.xlabel('Eixo X')\n",
    "plt.ylabel('Eixo Y')\n",
    "\n",
    "# Salva o gráfico como imagem\n",
    "plt.savefig('/content/grafico.png')\n",
    "\n",
    "# Cria um arquivo PDF e desenha o gráfico nele\n",
    "pdf_path = '/content/relatorio_pdf_reports3.pdf'\n",
    "c = canvas.Canvas(pdf_path, pagesize=letter)\n",
    "c.drawString(72, 800, 'Relatório em PDF')\n",
    "c.drawImage('/content/grafico.png', 72, 500, width=400, height=300)\n",
    "c.save()\n",
    "\n",
    "# Baixa o PDF gerado\n",
    "from google.colab import files\n",
    "files.download(pdf_path)\n"
   ]
  },
  {
   "cell_type": "code",
   "execution_count": 76,
   "metadata": {
    "colab": {
     "base_uri": "https://localhost:8080/",
     "height": 472
    },
    "id": "C69DhkG02S8G",
    "outputId": "6b4975ec-7dce-44bc-8ef3-e5d3a0d9c0cb"
   },
   "outputs": [
    {
     "data": {
      "application/javascript": [
       "\n",
       "    async function download(id, filename, size) {\n",
       "      if (!google.colab.kernel.accessAllowed) {\n",
       "        return;\n",
       "      }\n",
       "      const div = document.createElement('div');\n",
       "      const label = document.createElement('label');\n",
       "      label.textContent = `Downloading \"${filename}\": `;\n",
       "      div.appendChild(label);\n",
       "      const progress = document.createElement('progress');\n",
       "      progress.max = size;\n",
       "      div.appendChild(progress);\n",
       "      document.body.appendChild(div);\n",
       "\n",
       "      const buffers = [];\n",
       "      let downloaded = 0;\n",
       "\n",
       "      const channel = await google.colab.kernel.comms.open(id);\n",
       "      // Send a message to notify the kernel that we're ready.\n",
       "      channel.send({})\n",
       "\n",
       "      for await (const message of channel.messages) {\n",
       "        // Send a message to notify the kernel that we're ready.\n",
       "        channel.send({})\n",
       "        if (message.buffers) {\n",
       "          for (const buffer of message.buffers) {\n",
       "            buffers.push(buffer);\n",
       "            downloaded += buffer.byteLength;\n",
       "            progress.value = downloaded;\n",
       "          }\n",
       "        }\n",
       "      }\n",
       "      const blob = new Blob(buffers, {type: 'application/binary'});\n",
       "      const a = document.createElement('a');\n",
       "      a.href = window.URL.createObjectURL(blob);\n",
       "      a.download = filename;\n",
       "      div.appendChild(a);\n",
       "      a.click();\n",
       "      div.remove();\n",
       "    }\n",
       "  "
      ],
      "text/plain": [
       "<IPython.core.display.Javascript object>"
      ]
     },
     "metadata": {},
     "output_type": "display_data"
    },
    {
     "data": {
      "application/javascript": [
       "download(\"download_897023de-61e9-4ec3-843f-5bb3f210a048\", \"relatorio_pdf_reports4.pdf\", 22588)"
      ],
      "text/plain": [
       "<IPython.core.display.Javascript object>"
      ]
     },
     "metadata": {},
     "output_type": "display_data"
    },
    {
     "data": {
      "image/png": "[encoded data removed]",
      "text/plain": [
       "<Figure size 640x480 with 1 Axes>"
      ]
     },
     "metadata": {},
     "output_type": "display_data"
    }
   ],
   "source": [
    "from reportlab.lib.pagesizes import letter\n",
    "from reportlab.pdfgen import canvas\n",
    "import matplotlib.pyplot as plt\n",
    "\n",
    "# Dados do gráfico (exemplo)\n",
    "x = [1, 2, 3, 4, 5]\n",
    "y = [2, 4, 6, 8, 10]\n",
    "\n",
    "plt.plot(x, y)\n",
    "plt.title('Exemplo de Gráfico')\n",
    "plt.xlabel('Eixo X')\n",
    "plt.ylabel('Eixo Y')\n",
    "\n",
    "# Salva o gráfico como imagem\n",
    "plt.savefig('/content/grafico.png')\n",
    "\n",
    "# Cria um arquivo PDF e desenha o gráfico e o texto nele\n",
    "pdf_path = '/content/relatorio_pdf_reports4.pdf'\n",
    "c = canvas.Canvas(pdf_path, pagesize=letter)\n",
    "\n",
    "# Adiciona título\n",
    "c.setFont(\"Helvetica-Bold\", 16)\n",
    "c.drawString(72, 800, 'Relatório em PDF com Gráfico')\n",
    "\n",
    "# Adiciona cabeçalho\n",
    "c.setFont(\"Helvetica\", 12)\n",
    "c.drawString(72, 780, 'Cabeçalho do Relatório')\n",
    "\n",
    "# Adiciona texto de exemplo\n",
    "texto_exemplo = (\n",
    "    \"Este é um exemplo de relatório em PDF com um gráfico, \"\n",
    "    \"um título, um cabeçalho e um texto de exemplo.\"\n",
    ")\n",
    "c.drawString(72, 750, texto_exemplo)\n",
    "\n",
    "# Adiciona o gráfico\n",
    "c.drawImage('/content/grafico.png', 72, 500, width=400, height=300)\n",
    "\n",
    "# Salva o PDF\n",
    "c.save()\n",
    "\n",
    "# Baixa o PDF gerado\n",
    "from google.colab import files\n",
    "files.download(pdf_path)\n"
   ]
  }
 ],
 "metadata": {
  "colab": {
   "provenance": [],
   "toc_visible": true
  },
  "kernelspec": {
   "display_name": "Python 3 (ipykernel)",
   "language": "python",
   "name": "python3"
  },
  "language_info": {
   "codemirror_mode": {
    "name": "ipython",
    "version": 3
   },
   "file_extension": ".py",
   "mimetype": "text/x-python",
   "name": "python",
   "nbconvert_exporter": "python",
   "pygments_lexer": "ipython3",
   "version": "3.10.11"
  }
 },
 "nbformat": 4,
 "nbformat_minor": 4
}
